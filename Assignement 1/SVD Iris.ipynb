{
 "cells": [
  {
   "cell_type": "code",
   "execution_count": 1,
   "metadata": {},
   "outputs": [],
   "source": [
    "import numpy as np\n",
    "from matplotlib import pyplot as plt\n",
    "from data import data_utils \n",
    "import math"
   ]
  },
  {
   "cell_type": "code",
   "execution_count": 91,
   "metadata": {},
   "outputs": [],
   "source": [
    "def acc(trueVal, predictedVal): \n",
    "    true = np.argmax(trueVal,axis=1)\n",
    "    pred = np.argmax(predictedVal,axis=1)\n",
    "    acc = 0\n",
    "    \n",
    "    for i in range(true.shape[0]):\n",
    "        if true[i]  == pred[i]:\n",
    "            acc += 1 \n",
    "    \n",
    "    return acc/true.shape[0]"
   ]
  },
  {
   "cell_type": "code",
   "execution_count": 98,
   "metadata": {},
   "outputs": [
    {
     "name": "stdout",
     "output_type": "stream",
     "text": [
      "Training Error: 0.837037037037037\n",
      "Testing Error: 0.8666666666666667\n"
     ]
    }
   ],
   "source": [
    "x_train, x_valid, x_test, y_train, y_valid, y_test = data_utils.load_dataset('iris')\n",
    "\n",
    "\n",
    "x_train = np.vstack([x_train,x_valid])\n",
    "y_train = np.vstack([y_train,y_valid])\n",
    "\n",
    "\n",
    "\n",
    "U,S,V=np.linalg.svd(x_train,full_matrices=True)\n",
    "\n",
    "# S = S.reshape((S.shape[0], 1))\n",
    "filler = np.zeros(U.shape[0] - S.shape[0])\n",
    "# print(filler.shape)\n",
    "# print(S.shape)\n",
    "add = np.append(S,filler)\n",
    "dimS = S.shape[0]\n",
    "S = np.diag(add)\n",
    "S = S[:,:dimS]\n",
    "# U = U[:,:S.shape[0]]\n",
    "\n",
    "# print(x_train.shape)\n",
    "# print('S',S.shape)\n",
    "# print('U',U.shape)\n",
    "# print('V',V.shape)\n",
    "\n",
    "# print(S.shape)\n",
    "# print(V.shape)\n",
    "# print(x_train.shape)\n",
    "# print(U.shape)\n",
    "# print('test')\n",
    "# print(V.shape)\n",
    "# print(S.shape)\n",
    "# print(U.shape)\n",
    "# print(y_train.shape)\n",
    "\n",
    "\n",
    "inv = np.linalg.pinv(S)\n",
    "# print('inv',inv.shape)\n",
    "w = U.T @ y_train\n",
    "# print('w1', w.shape)\n",
    "w= inv @ w\n",
    "# print('w2', w.shape)\n",
    "w= V.T @ w\n",
    "# print('w3', w.shape)\n",
    "\n",
    "\n",
    "ytrain = np.dot(x_train,w)\n",
    "ytest = np.dot(x_test,w)\n",
    "\n",
    "\n",
    "\n",
    "# print(np.argmax(ytest,axis=1))\n",
    "# print(np.argmax(y_test,axis=1))\n",
    "\n",
    "ytrainError = acc(y_train, ytrain)\n",
    "ytestError = acc(y_test, ytest)\n",
    "    \n",
    "print('Training Error:',ytrainError )\n",
    "print('Testing Error:',ytestError )\n",
    "\n",
    "\n",
    "\n"
   ]
  },
  {
   "cell_type": "code",
   "execution_count": null,
   "metadata": {},
   "outputs": [],
   "source": []
  }
 ],
 "metadata": {
  "kernelspec": {
   "display_name": "Python 3",
   "language": "python",
   "name": "python3"
  },
  "language_info": {
   "codemirror_mode": {
    "name": "ipython",
    "version": 3
   },
   "file_extension": ".py",
   "mimetype": "text/x-python",
   "name": "python",
   "nbconvert_exporter": "python",
   "pygments_lexer": "ipython3",
   "version": "3.7.4"
  }
 },
 "nbformat": 4,
 "nbformat_minor": 2
}
