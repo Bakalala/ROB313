{
 "cells": [
  {
   "cell_type": "code",
   "execution_count": 2,
   "metadata": {},
   "outputs": [],
   "source": [
    "import numpy as np\n",
    "from matplotlib import pyplot as plt\n",
    "from data import data_utils \n",
    "import math"
   ]
  },
  {
   "cell_type": "code",
   "execution_count": 7,
   "metadata": {},
   "outputs": [],
   "source": [
    "def acc(trueVal, predictedVal): \n",
    "    true = np.argmax(trueVal,axis=1)\n",
    "    pred = np.argmax(predictedVal,axis=1)\n",
    "    acc = 0\n",
    "    \n",
    "    for i in range(true.shape[0]):\n",
    "        if true[i]  == pred[i]:\n",
    "            acc += 1 \n",
    "    \n",
    "    return acc/true.shape[0]"
   ]
  },
  {
   "cell_type": "code",
   "execution_count": 8,
   "metadata": {},
   "outputs": [
    {
     "name": "stdout",
     "output_type": "stream",
     "text": [
      "Training Error: 0.8762727272727273\n",
      "Testing Error: 0.858\n"
     ]
    }
   ],
   "source": [
    "x_train, x_valid, x_test, y_train, y_valid, y_test = data_utils.load_dataset('mnist_small')\n",
    "\n",
    "\n",
    "x_train = np.vstack([x_train,x_valid])\n",
    "y_train = np.vstack([y_train,y_valid])\n",
    "\n",
    "\n",
    "U,S,V=np.linalg.svd(x_train,full_matrices=True)\n",
    "\n",
    "filler = np.zeros(U.shape[0] - S.shape[0])\n",
    "add = np.append(S,filler)\n",
    "dimS = S.shape[0]\n",
    "S = np.diag(add)\n",
    "S = S[:,:dimS]\n",
    "\n",
    "inv = np.linalg.pinv(S)\n",
    "w = U.T @ y_train\n",
    "w= inv @ w\n",
    "w= V.T @ w\n",
    "\n",
    "\n",
    "ytrain = np.dot(x_train,w)\n",
    "ytest = np.dot(x_test,w)\n",
    "\n",
    "\n",
    "ytrainError = acc(y_train, ytrain)\n",
    "ytestError = acc(y_test, ytest)\n",
    "    \n",
    "print('Training Error:',ytrainError )\n",
    "print('Testing Error:',ytestError )\n"
   ]
  },
  {
   "cell_type": "code",
   "execution_count": null,
   "metadata": {},
   "outputs": [],
   "source": []
  }
 ],
 "metadata": {
  "kernelspec": {
   "display_name": "Python 3",
   "language": "python",
   "name": "python3"
  },
  "language_info": {
   "codemirror_mode": {
    "name": "ipython",
    "version": 3
   },
   "file_extension": ".py",
   "mimetype": "text/x-python",
   "name": "python",
   "nbconvert_exporter": "python",
   "pygments_lexer": "ipython3",
   "version": "3.7.4"
  }
 },
 "nbformat": 4,
 "nbformat_minor": 2
}
