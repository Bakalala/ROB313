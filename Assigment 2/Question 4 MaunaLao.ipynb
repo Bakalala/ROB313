{
 "cells": [
  {
   "cell_type": "code",
   "execution_count": 3,
   "metadata": {},
   "outputs": [],
   "source": [
    "import numpy as np\n",
    "from matplotlib import pyplot as plt\n",
    "from data import data_utils \n",
    "import math"
   ]
  },
  {
   "cell_type": "code",
   "execution_count": 15,
   "metadata": {},
   "outputs": [],
   "source": [
    "def gaussian_rbf(x, z, theta):\n",
    "    return np.exp(-np.square(x-z.T)/theta)"
   ]
  },
  {
   "cell_type": "code",
   "execution_count": 16,
   "metadata": {},
   "outputs": [],
   "source": [
    "def RMSE(yReal, yPredicted):\n",
    "    return np.sqrt(np.average((yReal-yPredicted)**2))"
   ]
  },
  {
   "cell_type": "code",
   "execution_count": 17,
   "metadata": {},
   "outputs": [],
   "source": [
    "x_train, x_valid, x_test, y_train, y_valid, y_test = data_utils.load_dataset('mauna_loa')"
   ]
  },
  {
   "cell_type": "code",
   "execution_count": 18,
   "metadata": {},
   "outputs": [],
   "source": [
    "n = len(x_train)\n",
    "pheta = [0.05, 0.1, 0.5, 1, 2]\n",
    "kvalues = [0.001, 0.01, 0.1, 1]\n",
    "val_error = []\n",
    "temp_error = []\n",
    "\n",
    "for p in pheta:\n",
    "\n",
    "    Gram = np.zeros([n,n])\n",
    "    \n",
    "    #I want to vectorize\n",
    "    for i in range(n):\n",
    "        for j in range(n):\n",
    "            Gram[i][j] = gaussian_rbf(x_train[i],x_train[j],p)\n",
    "            \n",
    "#     print(Gram)\n",
    "    \n",
    "    #I want to vectorize\n",
    "    kx = np.zeros([len(x_valid),n])\n",
    "    for i in range(len(x_valid)):\n",
    "        x = x_valid[i]\n",
    "        for j in range(n):\n",
    "            kx[i][j] = gaussian_rbf(x,x_train[j],p)\n",
    "\n",
    "    temp_error = []\n",
    "    for k in kvalues:\n",
    "\n",
    "        R = np.linalg.cholesky((Gram + k*np.identity(n)))\n",
    "\n",
    "        # want the inverse of (R R.T)^-1\n",
    "\n",
    "        Rinv = np.linalg.inv(R)\n",
    "\n",
    "        alpha = np.dot(Rinv.T, Rinv)\n",
    "        alpha = np.dot(alpha,y_train)\n",
    "\n",
    "        y_val_predicted = np.dot(kx,alpha)\n",
    "\n",
    "        error = RMSE(y_valid,y_val_predicted)\n",
    "\n",
    "        temp_error.append(error) \n",
    "        \n",
    "    val_error.append(temp_error)\n"
   ]
  },
  {
   "cell_type": "code",
   "execution_count": 19,
   "metadata": {},
   "outputs": [
    {
     "data": {
      "image/png": "[encoded data removed]",
      "text/plain": [
       "<Figure size 432x288 with 1 Axes>"
      ]
     },
     "metadata": {
      "needs_background": "light"
     },
     "output_type": "display_data"
    }
   ],
   "source": [
    "plt.plot(kvalues,val_error[0],kvalues,val_error[1],kvalues,val_error[2],kvalues,val_error[3],kvalues,val_error[4])\n",
    "plt.legend(['0.05', '0.1', '0.5', '1', '2'])\n",
    "plt.title('mauna_loa validation error for different phetas')\n",
    "plt.show()\n",
    "#min at k - 0.001, pheta = 1"
   ]
  },
  {
   "cell_type": "code",
   "execution_count": 20,
   "metadata": {},
   "outputs": [
    {
     "name": "stdout",
     "output_type": "stream",
     "text": [
      "[0.12447867031377788, 0.2294948423908652, 0.3391115051802565, 0.4436147618852472]\n",
      "[0.20170528414768468, 0.2524042653635087, 0.21714466927432255, 0.24921984409731723]\n"
     ]
    }
   ],
   "source": [
    "print(val_error[3])\n",
    "print(val_error[4])"
   ]
  },
  {
   "cell_type": "code",
   "execution_count": 21,
   "metadata": {},
   "outputs": [],
   "source": [
    "x_all = np.vstack([x_train, x_valid])\n",
    "y_all = np.vstack([y_train, y_valid])\n",
    "\n",
    "n = len(x_all)\n",
    "pheta = [0.05, 0.1, 0.5, 1, 2]\n",
    "kvalues = [0.001, 0.01, 0.1, 1]\n",
    "test_error = []\n",
    "temp_error = []\n",
    "\n",
    "for p in pheta:\n",
    "\n",
    "    Gram = np.zeros([n,n])\n",
    "    \n",
    "    #I want to vectorize\n",
    "    for i in range(n):\n",
    "        for j in range(n):\n",
    "            Gram[i][j] = gaussian_rbf(x_all[i],x_all[j],p)\n",
    "            \n",
    "#     print(Gram)\n",
    "    \n",
    "    #I want to vectorize\n",
    "    kx = np.zeros([len(x_test),n])\n",
    "    for i in range(len(x_test)):\n",
    "        x = x_test[i]\n",
    "        for j in range(n):\n",
    "            kx[i][j] = gaussian_rbf(x,x_all[j],p)\n",
    "\n",
    "    temp_error = []\n",
    "    for k in kvalues:\n",
    "\n",
    "        R = np.linalg.cholesky((Gram + k*np.identity(n)))\n",
    "\n",
    "        # want the inverse of (R R.T)^-1\n",
    "\n",
    "        Rinv = np.linalg.inv(R)\n",
    "\n",
    "        alpha = np.dot(Rinv.T, Rinv)\n",
    "        alpha = np.dot(alpha,y_all)\n",
    "\n",
    "\n",
    "\n",
    "        y_test_predicted = np.dot(kx,alpha)\n",
    "\n",
    "        error = RMSE(y_test,y_test_predicted)\n",
    "\n",
    "        temp_error.append(error) \n",
    "        \n",
    "    test_error.append(temp_error)\n",
    "\n"
   ]
  },
  {
   "cell_type": "code",
   "execution_count": 22,
   "metadata": {},
   "outputs": [
    {
     "data": {
      "image/png": "[encoded data removed]",
      "text/plain": [
       "<Figure size 432x288 with 1 Axes>"
      ]
     },
     "metadata": {
      "needs_background": "light"
     },
     "output_type": "display_data"
    }
   ],
   "source": [
    "plt.plot(kvalues,test_error[0],kvalues,test_error[1],kvalues,test_error[2],kvalues,test_error[3],kvalues,test_error[4])\n",
    "plt.legend(['0.05', '0.1', '0.5', '1', '2'])\n",
    "plt.title('mauna_loa test error for different phetas')\n",
    "plt.show()\n"
   ]
  },
  {
   "cell_type": "code",
   "execution_count": 23,
   "metadata": {},
   "outputs": [
    {
     "name": "stdout",
     "output_type": "stream",
     "text": [
      "[0.14977338771821658, 0.2352828331610978, 0.31307251275631914, 0.43273555285699256]\n"
     ]
    }
   ],
   "source": [
    "print(test_error[3])"
   ]
  },
  {
   "cell_type": "code",
   "execution_count": 24,
   "metadata": {},
   "outputs": [
    {
     "name": "stdout",
     "output_type": "stream",
     "text": [
      "[0.2177883712566928, 0.19330637597489436, 0.2088717823561566, 0.3552183576304214]\n"
     ]
    }
   ],
   "source": [
    "print(test_error[4])"
   ]
  },
  {
   "cell_type": "code",
   "execution_count": null,
   "metadata": {},
   "outputs": [],
   "source": []
  }
 ],
 "metadata": {
  "kernelspec": {
   "display_name": "Python 3",
   "language": "python",
   "name": "python3"
  },
  "language_info": {
   "codemirror_mode": {
    "name": "ipython",
    "version": 3
   },
   "file_extension": ".py",
   "mimetype": "text/x-python",
   "name": "python",
   "nbconvert_exporter": "python",
   "pygments_lexer": "ipython3",
   "version": "3.7.4"
  }
 },
 "nbformat": 4,
 "nbformat_minor": 2
}
