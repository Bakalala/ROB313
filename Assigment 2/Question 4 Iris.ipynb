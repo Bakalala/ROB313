{
 "cells": [
  {
   "cell_type": "code",
   "execution_count": 1,
   "metadata": {},
   "outputs": [],
   "source": [
    "import numpy as np\n",
    "from matplotlib import pyplot as plt\n",
    "from data import data_utils \n",
    "import math"
   ]
  },
  {
   "cell_type": "code",
   "execution_count": 2,
   "metadata": {},
   "outputs": [],
   "source": [
    "def gaussian_rbf(x, z, theta):\n",
    "    return np.exp(-np.sum(np.square(x-np.transpose(z)))/theta)"
   ]
  },
  {
   "cell_type": "code",
   "execution_count": 3,
   "metadata": {},
   "outputs": [],
   "source": [
    "# x = x_train[1]\n",
    "# print(x)\n",
    "# y = x_train[2]\n",
    "# print(y)\n",
    "# gaussian_rbf(x,y,1)"
   ]
  },
  {
   "cell_type": "code",
   "execution_count": 5,
   "metadata": {},
   "outputs": [],
   "source": [
    "def RMSE(yReal, yPredicted):\n",
    "    return (yPredicted == yReal).sum() / len(yReal)"
   ]
  },
  {
   "cell_type": "code",
   "execution_count": 6,
   "metadata": {},
   "outputs": [],
   "source": [
    "x_train, x_valid, x_test, y_train, y_valid, y_test = data_utils.load_dataset('iris')"
   ]
  },
  {
   "cell_type": "code",
   "execution_count": 18,
   "metadata": {},
   "outputs": [],
   "source": [
    "n = len(x_train)\n",
    "pheta = [0.05, 0.1, 0.5, 1, 2]\n",
    "kvalues = [0.001, 0.01, 0.1, 1]\n",
    "val_error = []\n",
    "temp_error = []\n",
    "\n",
    "for p in pheta:\n",
    "\n",
    "    Gram = np.zeros([n,n])\n",
    "    \n",
    "    #I want to vectorize\n",
    "    for i in range(n):\n",
    "        for j in range(n):\n",
    "            Gram[i][j] = gaussian_rbf(x_train[i],x_train[j],p)\n",
    "            \n",
    "#     print(Gram)\n",
    "    \n",
    "    #I want to vectorize\n",
    "    kx = np.zeros([len(x_valid),n])\n",
    "    for i in range(len(x_valid)):\n",
    "        x = x_valid[i]\n",
    "        for j in range(n):\n",
    "            kx[i][j] = gaussian_rbf(x,x_train[j],p)\n",
    "\n",
    "    temp_error = []\n",
    "    for k in kvalues:\n",
    "\n",
    "        R = np.linalg.cholesky((Gram + k*np.identity(n)))\n",
    "\n",
    "        # want the inverse of (R R.T)^-1\n",
    "\n",
    "        Rinv = np.linalg.inv(R)\n",
    "\n",
    "        alpha = np.dot(Rinv.T, Rinv)\n",
    "        alpha = np.dot(alpha,y_train)\n",
    "\n",
    "#         print('alpha shape', alpha.shape)\n",
    "#         print('kx shape', kx.shape)\n",
    "\n",
    "\n",
    "        y_val_predicted =  np.dot(kx, alpha)\n",
    "#         print('y_val_predicted',y_val_predicted.shape)\n",
    "\n",
    "        y_val_predicted = np.argmax(y_val_predicted, axis=1)\n",
    "        y_answ_valid = np.argmax(1 * y_valid, axis=1)\n",
    "#         print(y_answ_valid)\n",
    "#         print(y_val_predicted)\n",
    "\n",
    "        error = RMSE(y_answ_valid,y_val_predicted)\n",
    "\n",
    "        temp_error.append(error) \n",
    "        \n",
    "    val_error.append(temp_error)\n"
   ]
  },
  {
   "cell_type": "code",
   "execution_count": 22,
   "metadata": {},
   "outputs": [
    {
     "data": {
      "image/png": "[encoded data removed]",
      "text/plain": [
       "<Figure size 432x288 with 1 Axes>"
      ]
     },
     "metadata": {
      "needs_background": "light"
     },
     "output_type": "display_data"
    },
    {
     "data": {
      "text/plain": [
       "[0.8387096774193549,\n",
       " 0.8387096774193549,\n",
       " 0.8387096774193549,\n",
       " 0.8709677419354839]"
      ]
     },
     "execution_count": 22,
     "metadata": {},
     "output_type": "execute_result"
    }
   ],
   "source": [
    "plt.plot(kvalues,val_error[0],kvalues,val_error[1],kvalues,val_error[2],kvalues,val_error[3],kvalues,val_error[4])\n",
    "plt.legend(['0.05', '0.1', '0.5', '1', '2'])\n",
    "plt.title('mauna_loa validation error for different phetas')\n",
    "plt.show()\n",
    "#best accuracy at k 1, pheta = 2 @ 87.096 %\n"
   ]
  },
  {
   "cell_type": "code",
   "execution_count": 20,
   "metadata": {},
   "outputs": [],
   "source": [
    "x_all = np.vstack([x_train, x_valid])\n",
    "y_all = np.vstack([y_train, y_valid])\n",
    "\n",
    "n = len(x_all)\n",
    "pheta = [0.05, 0.1, 0.5, 1, 2]\n",
    "kvalues = [0.001, 0.01, 0.1, 1]\n",
    "test_error = []\n",
    "temp_error = []\n",
    "\n",
    "for p in pheta:\n",
    "\n",
    "    Gram = np.zeros([n,n])\n",
    "    \n",
    "    #I want to vectorize\n",
    "    for i in range(n):\n",
    "        for j in range(n):\n",
    "            Gram[i][j] = gaussian_rbf(x_all[i],x_all[j],p)\n",
    "            \n",
    "#     print(Gram)\n",
    "    \n",
    "    #I want to vectorize\n",
    "    kx = np.zeros([len(x_test),n])\n",
    "    for i in range(len(x_test)):\n",
    "        x = x_test[i]\n",
    "        for j in range(n):\n",
    "            kx[i][j] = gaussian_rbf(x,x_all[j],p)\n",
    "\n",
    "    temp_error = []\n",
    "    for k in kvalues:\n",
    "\n",
    "        R = np.linalg.cholesky((Gram + k*np.identity(n)))\n",
    "\n",
    "        # want the inverse of (R R.T)^-1\n",
    "\n",
    "        Rinv = np.linalg.inv(R)\n",
    "\n",
    "        alpha = np.dot(Rinv.T, Rinv)\n",
    "        alpha = np.dot(alpha,y_all)\n",
    "\n",
    "\n",
    "\n",
    "        y_test_predicted = np.argmax(np.dot(kx, alpha), axis=1)\n",
    "        y_answ_test = np.argmax(1 * y_test, axis=1)\n",
    "\n",
    "        error = RMSE(y_answ_test,y_test_predicted)\n",
    "\n",
    "        temp_error.append(error) \n",
    "        \n",
    "    test_error.append(temp_error)\n",
    "\n"
   ]
  },
  {
   "cell_type": "code",
   "execution_count": 21,
   "metadata": {},
   "outputs": [
    {
     "data": {
      "image/png": "[encoded data removed]",
      "text/plain": [
       "<Figure size 432x288 with 1 Axes>"
      ]
     },
     "metadata": {
      "needs_background": "light"
     },
     "output_type": "display_data"
    }
   ],
   "source": [
    "plt.plot(kvalues,test_error[0],kvalues,test_error[1],kvalues,test_error[2],kvalues,test_error[3],kvalues,test_error[4])\n",
    "plt.legend(['0.05', '0.1', '0.5', '1', '2'])\n",
    "plt.title('mauna_loa test error for different phetas')\n",
    "plt.show()\n"
   ]
  },
  {
   "cell_type": "code",
   "execution_count": null,
   "metadata": {},
   "outputs": [],
   "source": []
  }
 ],
 "metadata": {
  "kernelspec": {
   "display_name": "Python 3",
   "language": "python",
   "name": "python3"
  },
  "language_info": {
   "codemirror_mode": {
    "name": "ipython",
    "version": 3
   },
   "file_extension": ".py",
   "mimetype": "text/x-python",
   "name": "python",
   "nbconvert_exporter": "python",
   "pygments_lexer": "ipython3",
   "version": "3.7.4"
  }
 },
 "nbformat": 4,
 "nbformat_minor": 2
}
