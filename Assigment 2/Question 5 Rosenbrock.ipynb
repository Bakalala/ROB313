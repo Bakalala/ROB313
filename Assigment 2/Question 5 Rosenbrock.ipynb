{
 "cells": [
  {
   "cell_type": "code",
   "execution_count": 102,
   "metadata": {},
   "outputs": [],
   "source": [
    "import numpy as np\n",
    "from matplotlib import pyplot as plt\n",
    "from data import data_utils \n",
    "import math"
   ]
  },
  {
   "cell_type": "code",
   "execution_count": 103,
   "metadata": {},
   "outputs": [],
   "source": [
    "def gaussian_rbf(x, z, theta):\n",
    "    return np.exp(-np.sum(np.square(x-np.transpose(z)))/theta)"
   ]
  },
  {
   "cell_type": "code",
   "execution_count": 104,
   "metadata": {},
   "outputs": [],
   "source": [
    "def RMSE(yReal, yPredicted):\n",
    "    return np.sqrt(np.average((yReal-yPredicted)**2))"
   ]
  },
  {
   "cell_type": "code",
   "execution_count": 105,
   "metadata": {},
   "outputs": [],
   "source": [
    "x_train, x_valid, x_test, y_train, y_valid, y_test = data_utils.load_dataset('rosenbrock', n_train=200, d=2)"
   ]
  },
  {
   "cell_type": "code",
   "execution_count": 125,
   "metadata": {},
   "outputs": [
    {
     "name": "stdout",
     "output_type": "stream",
     "text": [
      "0.01\n",
      "0.1\n",
      "1.0\n"
     ]
    }
   ],
   "source": [
    "pheta = [0.01,0.1,1.0]\n",
    "n = len(x_train)\n",
    "error = []\n",
    "allError = []\n",
    "allW = []\n",
    "\n",
    "\n",
    "\n",
    "for p in pheta:\n",
    "    \n",
    "    k = 0\n",
    "    rk = y_train\n",
    "    res = np.dot(rk.T,rk)[0][0]\n",
    "    new_epsilon = n/2 * np.log(res) + k/2 * np.log(n) \n",
    "    old_epsilon = float('inf')\n",
    "    \n",
    "    Gram = np.zeros([n,n])\n",
    "    for i in range(n):\n",
    "        for j in range(n):\n",
    "            Gram[i][j] = gaussian_rbf(x_train[i],x_train[j],p)  \n",
    "            \n",
    "    \n",
    "    kx = np.zeros([n,len(x_test)])\n",
    "    for i in range(len(x_test)):\n",
    "        x = x_test[i]\n",
    "        for j in range(n):\n",
    "            kx[j][i] = gaussian_rbf(x,x_train[j],p)\n",
    "            \n",
    "            \n",
    "    used = []\n",
    "    notUsed = list(range(0,n))\n",
    "    error = []\n",
    "\n",
    "    while new_epsilon < old_epsilon:\n",
    "#     while k < 30:\n",
    "        k += 1\n",
    "        \n",
    "        maxError = np.argmax(abs(rk[notUsed]))\n",
    "        \n",
    "#         print(maxError)\n",
    "        used.append(notUsed.pop(maxError))\n",
    "        \n",
    "        \n",
    "        Q,R = np.linalg.qr(Gram[used].T,mode = 'complete')\n",
    "        w = np.linalg.inv(R[:k])\n",
    "        w = np.dot(w,Q.T[:k])\n",
    "        w = np.dot(w,y_train)\n",
    "\n",
    "        rk = y_train - np.dot(Gram[used].T,w)\n",
    "        res = np.dot(rk.T,rk)[0][0]\n",
    "        old_epsilon = new_epsilon\n",
    "        new_epsilon = n/2 * np.log(res) + k/2 * np.log(n) \n",
    "        \n",
    "        error.append(old_epsilon)\n",
    "        \n",
    "    print(p)\n",
    "    rk = y_test - np.dot(kx[used].T,w)\n",
    "    res = np.dot(rk.T,rk)[0][0]\n",
    "\n",
    "    \n",
    "    allError.append(error)\n",
    "    allW.append(res)\n"
   ]
  },
  {
   "cell_type": "code",
   "execution_count": 126,
   "metadata": {},
   "outputs": [
    {
     "data": {
      "text/plain": [
       "[953.3019416562361, 666.0095698817561, 443.34576968291486]"
      ]
     },
     "execution_count": 126,
     "metadata": {},
     "output_type": "execute_result"
    }
   ],
   "source": [
    "allW"
   ]
  },
  {
   "cell_type": "code",
   "execution_count": 112,
   "metadata": {},
   "outputs": [
    {
     "data": {
      "text/plain": [
       "376.200570230793"
      ]
     },
     "execution_count": 112,
     "metadata": {},
     "output_type": "execute_result"
    },
    {
     "data": {
      "image/png": "[encoded data removed]",
      "text/plain": [
       "<Figure size 432x288 with 1 Axes>"
      ]
     },
     "metadata": {
      "needs_background": "light"
     },
     "output_type": "display_data"
    }
   ],
   "source": [
    "plt.plot(allError[0])\n",
    "np.min(allError[0])        "
   ]
  },
  {
   "cell_type": "code",
   "execution_count": 95,
   "metadata": {},
   "outputs": [
    {
     "data": {
      "text/plain": [
       "361.4127153254684"
      ]
     },
     "execution_count": 95,
     "metadata": {},
     "output_type": "execute_result"
    },
    {
     "data": {
      "image/png": "[encoded data removed]",
      "text/plain": [
       "<Figure size 432x288 with 1 Axes>"
      ]
     },
     "metadata": {
      "needs_background": "light"
     },
     "output_type": "display_data"
    }
   ],
   "source": [
    "plt.plot(allError[1])\n",
    "np.min(allError[1])\n",
    "\n"
   ]
  },
  {
   "cell_type": "code",
   "execution_count": 96,
   "metadata": {},
   "outputs": [
    {
     "data": {
      "text/plain": [
       "369.5661913522038"
      ]
     },
     "execution_count": 96,
     "metadata": {},
     "output_type": "execute_result"
    },
    {
     "data": {
      "image/png": "[encoded data removed]",
      "text/plain": [
       "<Figure size 432x288 with 1 Axes>"
      ]
     },
     "metadata": {
      "needs_background": "light"
     },
     "output_type": "display_data"
    }
   ],
   "source": [
    "plt.plot(allError[2])\n",
    "np.min(allError[2])"
   ]
  },
  {
   "cell_type": "code",
   "execution_count": 44,
   "metadata": {},
   "outputs": [
    {
     "data": {
      "text/plain": [
       "(1000, 1)"
      ]
     },
     "execution_count": 44,
     "metadata": {},
     "output_type": "execute_result"
    }
   ],
   "source": [
    "R.shape"
   ]
  },
  {
   "cell_type": "code",
   "execution_count": 26,
   "metadata": {},
   "outputs": [
    {
     "name": "stdout",
     "output_type": "stream",
     "text": [
      "[3.37018942e-075 9.10366509e-047 6.58405465e-182 0.00000000e+000\n",
      " 1.32157159e-087 2.20284656e-041 2.23311777e-100 2.27118109e-009\n",
      " 2.07300666e-093 1.75566865e-041 3.36107077e-180 1.51448574e-284\n",
      " 5.74689231e-049 9.84268576e-060 7.41791242e-141 2.93671840e-048\n",
      " 0.00000000e+000 4.51868974e-152 3.90368066e-005 1.22839975e-008\n",
      " 3.26269829e-071 6.53246511e-198 2.83752201e-015 0.00000000e+000\n",
      " 1.24693715e-044 3.85250604e-073 4.73632576e-022 5.96344493e-105\n",
      " 1.75894107e-092 1.88555544e-019 1.28353254e-033 2.49520688e-104\n",
      " 7.91971312e-081 1.69686445e-029 1.27921825e-209 1.57949257e-004\n",
      " 1.68639430e-162 3.58616638e-045 2.74198003e-122 1.19540892e-026\n",
      " 1.02731287e-005 5.49287544e-163 2.62391590e-043 4.15316816e-026\n",
      " 1.12779723e-027 4.77635601e-253 5.60647512e-033 2.48676858e-046\n",
      " 1.67699569e-003 2.16646592e-025 2.22841953e-154 1.08044904e-126\n",
      " 2.27495791e-032 8.88697567e-169 1.59341065e-037 5.96132803e-031\n",
      " 2.10188134e-109 1.88059725e-071 1.45149538e-100 2.93080805e-042\n",
      " 4.86777797e-047 6.38807301e-038 2.56788800e-016 9.02203770e-297\n",
      " 1.88284302e-254 2.09745428e-027 8.46320644e-159 7.15597355e-011\n",
      " 1.26167072e-038 5.57750959e-024 5.65352165e-202 2.92114729e-029\n",
      " 0.00000000e+000 7.63276268e-008 7.31823095e-058 2.83964678e-123\n",
      " 1.17764230e-006 1.98585518e-021 5.91789168e-002 9.64993406e-060\n",
      " 1.56555779e-047 1.36041800e-095 1.50310825e-100 3.04597620e-022\n",
      " 9.32664471e-020 6.89021801e-163 3.74697249e-041 9.69943116e-056\n",
      " 7.93115146e-035 1.49059422e-093 5.09853798e-001 3.16997473e-064\n",
      " 3.06431087e-063 1.19365540e-174 3.85494107e-035 5.17908344e-026\n",
      " 3.14471299e-199 0.00000000e+000 8.49710971e-074 0.00000000e+000\n",
      " 1.64513752e-016 5.80187999e-089 3.93472338e-004 1.42060321e-242\n",
      " 4.20829069e-082 2.81000813e-017 1.79545710e-089 1.55773891e-053\n",
      " 4.71803422e-098 9.08990285e-075 0.00000000e+000 1.11012139e-128\n",
      " 3.11222758e-176 2.95922069e-136 3.37143141e-012 6.48003734e-312\n",
      " 2.43403875e-085 2.03362480e-181 6.09138814e-052 2.45716821e-060\n",
      " 3.11771517e-295 3.76426725e-102 5.76239070e-053 8.81778227e-318\n",
      " 6.00154301e-010 8.13662670e-045 5.60654496e-017 1.27391073e-103\n",
      " 1.89581968e-223 3.73762359e-016 2.39488873e-020 1.58637313e-009\n",
      " 3.98858939e-051 3.03159972e-098 1.51247041e-184 2.91914566e-011\n",
      " 1.27342754e-143 6.65599317e-254 4.14096684e-050 5.42332185e-041\n",
      " 8.16225954e-176 1.45079567e-122 1.90740022e-078 4.43618234e-050\n",
      " 4.67445901e-111 6.83554122e-002 5.02831742e-152 8.12288708e-078\n",
      " 1.27726439e-104 5.68594702e-083 5.09007415e-060 9.49503391e-141\n",
      " 6.63377983e-174 4.87187962e-109 3.10529623e-014 1.37770678e-072\n",
      " 2.62299971e-035 1.00758203e-124 1.09906638e-211 1.07053294e-003\n",
      " 1.22881859e-013 2.12609367e-047 9.57351536e-158 2.22886031e-125\n",
      " 4.42662925e-079 7.44643477e-024 1.15240430e-028 3.19764348e-002\n",
      " 1.12912646e-221 3.72931511e-257 4.06366929e-036 3.66931483e-211\n",
      " 2.31457519e-057 6.50243640e-059 2.63653778e-074 5.43134971e-263\n",
      " 1.04367651e-076 7.15349020e-065 8.16117265e-003 2.06367609e-063\n",
      " 1.84566054e-005 1.13829409e-125 0.00000000e+000 5.11955263e-047\n",
      " 1.23982560e-069 1.04887907e-192 9.99897653e-110 4.00808946e-075\n",
      " 0.00000000e+000 2.92687189e-004 2.75396850e-022 1.44297013e-067\n",
      " 9.68029190e-042 3.91315455e-086 9.70867652e-054 2.80735857e-077\n",
      " 7.85424461e-001 9.11806544e-043 3.91810842e-079 1.71016349e-113\n",
      " 1.46935303e-108 1.42781750e-098 1.45447040e-089 4.37920255e-011\n",
      " 3.08502965e-084 6.05421112e-055 1.08381530e-261 4.22436815e-055\n",
      " 1.44006593e-092 4.28526926e-151 5.18851948e-060 3.47349205e-126\n",
      " 3.55070281e-087 6.40171426e-006 1.30316011e-003 0.00000000e+000\n",
      " 1.14601186e-001 7.01324136e-099 1.05886768e-031 2.37550201e-065\n",
      " 2.44870560e-151 1.10094765e-062 9.14010697e-233 7.59044535e-083\n",
      " 2.84533753e-174 1.87881206e-032 2.73664208e-055 1.89357689e-063\n",
      " 6.79004601e-131 7.07303430e-218 5.41353791e-270 9.25594173e-131\n",
      " 7.15796691e-058 1.23971232e-047 1.39074445e-037 9.13983666e-139\n",
      " 6.04479529e-086 1.58559424e-055 2.03782564e-098 4.71430933e-239\n",
      " 2.30263225e-132 7.67231594e-112 1.22999808e-059 3.67783398e-001\n",
      " 2.17470886e-023 6.27385806e-010 6.48716837e-040 4.31161509e-217\n",
      " 1.85084889e-167 1.34779223e-299 6.82199569e-108 7.84629402e-201\n",
      " 1.65429446e-048 7.64244055e-031 1.39984224e-012 7.78117692e-210\n",
      " 4.04963926e-048 9.90002554e-021 8.48617763e-058 1.18453191e-007\n",
      " 2.27197294e-139 3.27672423e-289 3.50876433e-147 1.37686608e-202\n",
      " 3.01164625e-008 7.35702584e-093 7.40483180e-008 6.31175667e-008\n",
      " 2.85102940e-003 9.48756708e-085 0.00000000e+000 1.05607342e-207\n",
      " 1.15398481e-051 2.21936150e-018 6.00799862e-004 7.41116706e-125\n",
      " 1.18633323e-021 8.31528341e-011 1.02354693e-113 1.53751971e-093\n",
      " 4.07604110e-303 1.24658161e-091 4.62729897e-009 1.89525586e-034\n",
      " 5.70681617e-064 3.69915141e-042 8.27323869e-010 1.74982871e-057\n",
      " 0.00000000e+000 7.91104383e-115 5.83019885e-012 5.54427656e-078\n",
      " 4.59776913e-138 5.14155861e-107 1.48062888e-044 7.70056572e-063\n",
      " 8.91009178e-124 2.47089183e-025 1.67514207e-157 5.47219396e-143\n",
      " 1.08791912e-104 1.07908398e-213 7.02469661e-095 1.08781476e-064\n",
      " 2.18264825e-010 6.15629346e-105 1.34443083e-051 2.74561407e-006\n",
      " 3.77196072e-265 1.40403755e-013 1.95896494e-244 2.31525049e-138\n",
      " 2.81190348e-135 6.53554771e-049 2.38701721e-061 2.37225652e-158\n",
      " 2.54633709e-078 4.99938057e-301 1.65889320e-024 0.00000000e+000\n",
      " 8.95134111e-027 2.32873072e-170 2.48907079e-198 1.85089839e-143\n",
      " 1.58596239e-173 8.65697927e-072 1.08796971e-059 1.16355776e-311\n",
      " 5.13906932e-029 2.72120304e-005 1.95184646e-057 6.06634855e-038\n",
      " 2.32338315e-011 1.18970006e-247 2.50594662e-077 3.64860952e-060\n",
      " 8.33051948e-015 2.17487624e-019 2.41121500e-117 4.39487145e-036\n",
      " 3.68209471e-016 4.10588485e-056 2.65265220e-144 1.33569428e-067\n",
      " 5.68411510e-142 4.02717000e-033 1.33770573e-061 8.19030006e-018\n",
      " 5.91675848e-138 3.94322826e-003 4.27963750e-119 3.80624498e-055\n",
      " 9.96532969e-009 2.31895475e-048 2.58318920e-025 3.88338580e-093\n",
      " 1.25542689e-032 2.58925055e-013 1.88409712e-302 1.23458755e-022\n",
      " 8.14190657e-064 3.28174131e-007 3.52431847e-319 1.07041735e-001\n",
      " 2.13748324e-078 1.22901461e-113 1.34665643e-127 4.64444379e-093\n",
      " 1.51799812e-070 1.79585635e-192 8.96337993e-045 1.57206292e-042\n",
      " 5.57387011e-070 7.71798106e-018 1.14577717e-081 2.49363216e-027\n",
      " 1.68040022e-016 7.92220360e-063 5.01627493e-288 4.57328519e-111\n",
      " 2.85301271e-175 8.27838843e-039 1.12102720e-104 1.00711734e-106\n",
      " 4.50226575e-093 9.92873818e-016 6.27418495e-016 0.00000000e+000\n",
      " 8.42594572e-133 0.00000000e+000 3.97743629e-028 2.59465810e-193\n",
      " 1.47876390e-251 1.02683200e-007 4.19569763e-266 3.91889593e-018\n",
      " 8.91264600e-036 1.86054671e-037 7.98468627e-093 1.56786792e-319\n",
      " 4.00494075e-010 2.02096585e-136 7.64569134e-070 1.08704421e-110\n",
      " 1.70268207e-050 1.43170512e-094 1.12326650e-008 1.40367992e-003\n",
      " 6.10526447e-047 6.28760964e-006 1.10044092e-016 5.01312205e-074\n",
      " 3.00492801e-032 4.94884161e-077 9.20299667e-028 1.61241461e-032\n",
      " 2.63233808e-057 6.36195865e-240 1.86104718e-033 1.97244312e-044\n",
      " 4.15081834e-074 7.14714071e-011 5.04727641e-075 1.66460576e-280\n",
      " 3.76467732e-079 0.00000000e+000 3.28959184e-020 0.00000000e+000\n",
      " 4.67907861e-103 1.52457552e-008 1.05602448e-035 7.84978690e-080\n",
      " 4.65398039e-070 3.02194614e-011 1.02164659e-002 0.00000000e+000\n",
      " 9.68087541e-136 5.89589560e-053 7.68995174e-164 3.39094108e-141\n",
      " 1.81244434e-170 9.79267588e-106 5.54652635e-004 2.41192111e-249\n",
      " 2.15208458e-057 6.13958385e-084 2.56284432e-044 3.66390240e-099\n",
      " 1.07094473e-199 1.03104477e-057 5.77413061e-037 5.64990857e-085\n",
      " 1.13809480e-092 3.41411156e-051 1.11893722e-005 1.11455514e-178\n",
      " 6.15619497e-029 3.03934434e-138 7.66861198e-023 8.90552283e-183\n",
      " 1.22367040e-102 7.01268406e-162 4.63469201e-001 1.05943541e-052\n",
      " 1.71991316e-124 9.97741010e-149 8.87749288e-175 4.75352349e-077\n",
      " 5.06146582e-136 7.18669177e-053 1.05502555e-006 2.40855091e-006\n",
      " 2.88647230e-187 1.40018163e-083 1.12980939e-062 1.28264095e-134\n",
      " 2.21698927e-102 3.17072599e-035 1.21483283e-119 1.18893056e-051\n",
      " 5.67349880e-033 3.41774797e-039 1.65221237e-048 1.03830214e-187\n",
      " 1.09035929e-184 1.19370049e-067 1.93343378e-191 1.02502393e-179\n",
      " 3.39783624e-062 1.63100370e-129 1.68831630e-189 2.54191096e-006\n",
      " 2.07593113e-200 2.18461498e-029 0.00000000e+000 4.94065646e-324\n",
      " 8.39179405e-060 1.94994262e-054 0.00000000e+000 9.31369324e-015\n",
      " 1.78300478e-027 1.01699843e-203 6.75595880e-033 1.38522153e-063\n",
      " 3.06501227e-058 2.73983472e-133 4.93711769e-009 3.24413022e-004\n",
      " 0.00000000e+000 1.81393048e-037 9.90600263e-011 2.79632738e-066\n",
      " 6.69825169e-184 5.44457478e-085 1.36915587e-049 8.67587374e-245\n",
      " 2.01840570e-053 0.00000000e+000 5.75530568e-147 6.71834914e-104\n",
      " 1.90391917e-063 3.21943576e-017 2.91473844e-117 6.25166213e-268\n",
      " 3.53562369e-030 5.16686721e-038 5.51616100e-003 1.72419098e-125\n",
      " 1.08224346e-017 9.45864328e-012 1.14329873e-123 1.59251043e-052\n",
      " 7.10075460e-011 4.56283703e-198 5.80934329e-034 6.33614362e-107\n",
      " 6.20377678e-052 1.99011162e-017 1.44703578e-107 1.89434820e-170\n",
      " 9.36607798e-098 3.69975722e-018 0.00000000e+000 1.22536494e-050\n",
      " 5.05559072e-006 4.44555344e-209 0.00000000e+000 1.56539202e-011\n",
      " 9.22612479e-030 8.51589009e-070 1.26991024e-063 1.03378601e-015\n",
      " 4.27469160e-022 1.73287206e-097 1.47735974e-104 0.00000000e+000\n",
      " 2.79634668e-043 2.50489595e-056 5.00586662e-076 1.07274482e-239\n",
      " 1.96079921e-132 2.84971502e-025 6.31840331e-007 2.41905977e-028\n",
      " 4.28031277e-018 3.00138977e-079 3.75471523e-040 1.36473514e-177\n",
      " 8.53939258e-067 6.46874433e-050 3.98162371e-085 7.97464080e-021\n",
      " 1.37729814e-030 1.74535532e-014 9.93564854e-037 1.32998723e-165\n",
      " 7.41763307e-002 1.16689272e-076 0.00000000e+000 6.78140033e-031\n",
      " 6.36020229e-109 4.32310649e-021 4.49068147e-103 2.35437880e-038\n",
      " 5.55466376e-073 6.46463600e-027 1.77925363e-037 4.77036635e-232\n",
      " 2.94624508e-200 2.04815762e-022 1.03932226e-001 6.04071535e-047\n",
      " 5.71753733e-113 7.87924854e-046 1.46808971e-287 8.07511711e-053\n",
      " 8.99465124e-003 2.40380826e-212 2.43105004e-021 5.16935883e-152\n",
      " 1.93490716e-021 1.25940174e-072 1.25279400e-254 1.56964066e-028\n",
      " 8.97497492e-098 4.22690953e-018 3.54773767e-048 2.07196570e-044\n",
      " 6.18781323e-001 3.57192386e-055 2.61876265e-100 1.32454156e-023\n",
      " 3.06521030e-303 4.72488853e-064 2.23529421e-095 1.29144669e-135\n",
      " 2.58805486e-090 5.44936115e-287 1.43934868e-260 1.05846096e-079\n",
      " 4.05203495e-015 4.11070324e-065 3.07103994e-027 1.58705948e-089\n",
      " 7.31694361e-047 4.21555077e-077 1.78902304e-072 1.86278780e-078\n",
      " 3.97431507e-029 0.00000000e+000 9.29723262e-039 1.66442105e-037\n",
      " 3.45064913e-035 3.98690132e-024 1.59680592e-190 0.00000000e+000\n",
      " 1.25604270e-168 8.03349757e-098 1.45942239e-171 3.18908333e-071\n",
      " 1.96473591e-102 1.95350547e-072 6.88855038e-106 2.95427765e-259\n",
      " 2.18838695e-127 2.28510173e-104 5.86024908e-158 1.02082151e-045\n",
      " 8.32533913e-073 6.77700063e-032 2.92810509e-016 1.38125390e-059\n",
      " 8.81235136e-126 1.62995363e-016 4.33460347e-065 2.04393044e-148\n",
      " 3.70980108e-080 4.62537622e-048 6.43505067e-156 6.63107111e-061\n",
      " 8.42513033e-023 2.39419733e-045 2.91976811e-012 1.85276687e-056\n",
      " 5.58738085e-069 2.29265486e-038 1.62050992e-125 2.50946250e-056\n",
      " 9.37213487e-038 2.04758552e-092 8.78648445e-125 1.73085569e-185\n",
      " 1.60518681e-226 4.13733727e-144 1.18652223e-254 1.03723032e-036\n",
      " 3.91875619e-122 3.43534419e-120 3.48292077e-180 8.44237369e-207\n",
      " 3.43480803e-024 1.43625032e-012 3.44483014e-057 4.12427880e-046\n",
      " 2.88128489e-221 2.97631575e-129 7.56635703e-101 1.51488235e-067\n",
      " 0.00000000e+000 1.44143303e-003 3.05015968e-040 1.33168901e-277\n",
      " 1.15024386e-022 4.78842742e-088 2.61738795e-247 2.20621553e-068\n",
      " 7.93159042e-022 1.65818710e-210 3.08005799e-067 1.40120427e-249\n",
      " 3.55416645e-105 3.73098621e-017 1.61785015e-075 3.77697856e-274\n",
      " 3.58743050e-128 7.24780587e-035 1.13155149e-137 3.92277005e-107\n",
      " 1.95933643e-119 2.10757776e-058 4.03570734e-026 7.27309432e-022\n",
      " 3.73451664e-071 1.59317957e-026 6.53925050e-127 7.79264076e-049\n",
      " 1.59954441e-004 5.67915599e-006 3.14754085e-131 4.28233906e-009\n",
      " 1.11721683e-041 1.99500687e-064 7.34348717e-011 0.00000000e+000\n",
      " 1.26143798e-036 9.12041820e-045 2.08794656e-095 1.08151315e-173\n",
      " 2.81449785e-045 3.75209297e-089 8.17266165e-066 1.33530388e-026\n",
      " 8.35777042e-246 3.21634955e-025 4.57702701e-038 2.15424070e-092\n",
      " 4.55922036e-024 6.15094337e-211 1.71860969e-023 2.27901969e-142\n",
      " 4.72053574e-151 1.65406130e-016 0.00000000e+000 2.96437212e-040\n",
      " 3.97890292e-051 6.70268362e-127 8.72058020e-314 3.60912329e-027\n",
      " 4.24868315e-012 0.00000000e+000 4.35879141e-052 2.94400392e-036\n",
      " 1.20402801e-109 1.04408363e-266 3.25278394e-021 2.61165139e-068\n",
      " 5.40829100e-029 2.80959258e-076 1.27833586e-056 1.31666161e-155\n",
      " 5.67019434e-055 4.84939399e-008 1.65575232e-065 4.14694751e-037\n",
      " 6.66904516e-020 3.34262579e-041 3.07779661e-062 0.00000000e+000\n",
      " 1.21758826e-088 2.86815318e-202 1.01906515e-281 4.25836811e-037\n",
      " 2.91809595e-083 2.11990358e-163 3.81542454e-177 1.98720681e-113\n",
      " 3.28429441e-069 6.80971748e-048 3.09359524e-108 9.29384625e-078\n",
      " 3.51341830e-096 3.50453945e-110 8.98894620e-067 2.87311010e-085\n",
      " 6.84046189e-012 1.74079463e-006 6.58981834e-023 4.43710455e-171\n",
      " 2.07675894e-067 6.74975501e-139 2.33982868e-204 1.09584309e-106\n",
      " 2.86728363e-031 1.60468783e-262 6.14576131e-211 1.60364423e-039\n",
      " 2.58569211e-088 2.22629313e-093 5.66344432e-003 3.44689778e-043\n",
      " 1.52425533e-020 9.94448127e-109 2.41992804e-023 7.73643705e-117\n",
      " 7.82716814e-026 1.84183006e-227 5.96080443e-036 4.83732244e-217\n",
      " 3.91529786e-014 6.28347010e-006 4.68821025e-092 2.12854199e-115\n",
      " 1.37266883e-087 3.20038305e-092 9.04542238e-093 4.92407461e-134\n",
      " 3.32877398e-030 1.57394665e-120 3.23684444e-141 3.90141986e-045\n",
      " 8.56548551e-009 0.00000000e+000 6.05454614e-075 6.99651564e-227\n",
      " 7.42276431e-142 6.89208728e-028 3.96986583e-126 3.98415875e-071\n",
      " 4.55570090e-028 4.27189291e-047 5.47409911e-016 8.03833839e-048\n",
      " 4.32251796e-070 1.03428293e-069 0.00000000e+000 4.56675643e-212\n",
      " 0.00000000e+000 8.44819690e-135 8.93997984e-150 1.00000000e+000\n",
      " 1.98468971e-076 8.21637399e-095 7.85290521e-081 1.51444602e-035\n",
      " 1.48811069e-120 4.89372060e-072 7.92052245e-014 1.92472434e-125\n",
      " 1.99242347e-028 9.42856020e-064 1.30027263e-010 3.75611909e-005\n",
      " 1.37474679e-131 1.02632172e-044 4.22168919e-306 1.66852562e-016\n",
      " 2.25756694e-046 5.20734933e-001 1.60491579e-003 2.73739951e-088\n",
      " 2.86665804e-242 2.38379893e-056 2.46845473e-051 2.98078460e-290\n",
      " 1.51155305e-011 1.57933059e-024 6.01095540e-024 1.18547519e-040\n",
      " 2.29557328e-161 1.28402043e-058 2.42211361e-011 2.43113110e-046\n",
      " 4.62689033e-230 4.45796451e-046 7.82369318e-017 2.81213762e-031\n",
      " 7.82571151e-079 5.78278075e-027 7.21363573e-004 1.33182894e-113\n",
      " 3.12639541e-050 1.70304735e-114 6.70851922e-005 1.97916859e-011\n",
      " 1.04784134e-056 4.49543883e-107 1.25100745e-010 6.24553008e-029\n",
      " 5.57073003e-002 1.17341607e-067 2.45931871e-112 5.16521487e-294\n",
      " 4.57399468e-063 6.19819012e-269 8.30474689e-209 0.00000000e+000\n",
      " 1.40141795e-018 1.85135252e-025 0.00000000e+000 1.07423911e-002\n",
      " 7.48877559e-004 9.45755187e-260 2.79787882e-047 9.42983048e-310\n",
      " 2.57162934e-242 2.79077222e-188 1.05756237e-006 0.00000000e+000\n",
      " 2.07418961e-080 1.32548850e-115 6.60243766e-031 5.19879195e-220\n",
      " 1.62379619e-100 1.31412691e-022 8.03930870e-153 2.11213556e-022\n",
      " 2.99476803e-169 2.48360677e-002 0.00000000e+000 1.54678422e-110\n",
      " 7.00680649e-022 1.30331664e-264 1.72990378e-006 1.07489281e-297\n",
      " 3.30576546e-072 2.36812545e-001 1.67806296e-013 9.19108325e-206\n",
      " 1.43508639e-290 1.88332153e-020 4.05664681e-164 1.53303190e-094\n",
      " 1.90499356e-038 2.35079805e-047 7.42344509e-046 1.87958820e-065\n",
      " 4.24320510e-008 7.33455377e-047 3.76043856e-204 4.20959292e-090\n",
      " 0.00000000e+000 1.47135964e-048 0.00000000e+000 6.84492710e-058\n",
      " 4.11281838e-301 9.83170671e-080 2.10430835e-180 1.66809337e-099\n",
      " 4.39147119e-271 4.33399792e-115 1.32420400e-186 1.27038493e-117\n",
      " 1.70088246e-069 1.55500432e-263 1.75097210e-082 5.06781336e-009\n",
      " 2.76841421e-071 7.41795561e-023 3.78677237e-091 6.13565803e-020\n",
      " 3.07953590e-054 7.02427946e-019 3.67771225e-200 3.40749383e-024\n",
      " 2.40809313e-065 5.57549218e-081 1.01033538e-146 4.39995169e-114\n",
      " 3.09894087e-084 0.00000000e+000 1.92013640e-193 8.23474846e-054\n",
      " 1.40960428e-078 3.73271170e-161 3.58495681e-222 8.16576567e-015\n",
      " 2.29824986e-125 6.04525878e-082 1.61402524e-063 7.69014595e-312\n",
      " 0.00000000e+000 1.05557777e-038 8.01097429e-062 4.56702970e-140\n",
      " 3.97056046e-001 4.90845161e-028 2.58752073e-124 6.58889945e-002\n",
      " 4.81883058e-128 1.75516279e-043 2.23955037e-276 7.26126891e-151\n",
      " 1.02005372e-066 1.71670760e-071 1.90017523e-001 3.00972512e-030\n",
      " 8.85642617e-126 2.99200470e-031 1.81439035e-050 7.94363840e-021]\n"
     ]
    }
   ],
   "source": [
    "# print(Gram[839])"
   ]
  },
  {
   "cell_type": "code",
   "execution_count": null,
   "metadata": {},
   "outputs": [],
   "source": []
  }
 ],
 "metadata": {
  "kernelspec": {
   "display_name": "Python 3",
   "language": "python",
   "name": "python3"
  },
  "language_info": {
   "codemirror_mode": {
    "name": "ipython",
    "version": 3
   },
   "file_extension": ".py",
   "mimetype": "text/x-python",
   "name": "python",
   "nbconvert_exporter": "python",
   "pygments_lexer": "ipython3",
   "version": "3.7.4"
  }
 },
 "nbformat": 4,
 "nbformat_minor": 2
}
