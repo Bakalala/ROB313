{
 "cells": [
  {
   "cell_type": "markdown",
   "metadata": {},
   "source": [
    "This notebook requires the [`autograd` package](https://github.com/HIPS/autograd).\n",
    "To install `autograd` run the following in a terminal (mac or linux), or Anaconda prompt (windows)\n",
    "```\n",
    "conda install -c conda-forge autograd\n",
    "```"
   ]
  },
  {
   "cell_type": "code",
   "execution_count": 10,
   "metadata": {},
   "outputs": [],
   "source": [
    "%matplotlib inline\n",
    "import matplotlib.pyplot as plt\n",
    "import autograd.numpy as np\n",
    "\n",
    "# add the data folder to path (this specifies a relative path to where my data is stored)\n",
    "import os, sys\n",
    "sys.path.append(os.path.join(os.getcwd(), \"../data\"))\n",
    "from data.data_utils import rosenbrock\n",
    "\n"
   ]
  },
  {
   "cell_type": "markdown",
   "metadata": {},
   "source": [
    "Recall our MLP forward pass computations"
   ]
  },
  {
   "cell_type": "code",
   "execution_count": 11,
   "metadata": {},
   "outputs": [],
   "source": [
    "def forward_pass(x, W1, W2, b1, b2, phi1, phi2):\n",
    "    \"\"\"\n",
    "    forward-pass for an MLP with a single hidden layer of M neurons\n",
    "    Inputs:\n",
    "        x : (N, 2) training inputs\n",
    "        W1 : (M, 2) weights of first (hidden) layer\n",
    "        W2 : (1, M) weights of second (output) layer\n",
    "        b1 : (M, 1) biases of first (hidden) layer\n",
    "        b2 : (1, 1) biases of second (output) layer\n",
    "        phi1 : 1st layer activation function\n",
    "        phi2 : 2nd layer activation function\n",
    "    Outputs:\n",
    "        Fhat : (N, 1) output of the neural network at training inputs\n",
    "    \"\"\"\n",
    "    H1 = phi1(np.dot(x, W1.T) + b1.T) # layer 1 neurons, shape (N, M)\n",
    "    Fhat = phi2(np.dot(H1, W2.T) + b2.T) # layer 2 neurons, shape (N, 1)\n",
    "    return Fhat"
   ]
  },
  {
   "cell_type": "markdown",
   "metadata": {},
   "source": [
    "Initialize the weights and biases in the neural network, as well as the activation functions"
   ]
  },
  {
   "cell_type": "code",
   "execution_count": 12,
   "metadata": {},
   "outputs": [],
   "source": [
    "np.random.seed(0)\n",
    "scale = 0.1 # standard deviation of initialization\n",
    "M = 50 # number of neurons in hidden layer\n",
    "W1 = scale * np.random.randn(M, 2)\n",
    "W2 = scale * np.random.randn(1, M)\n",
    "b1 = scale * np.random.randn(M, 1)\n",
    "b2 = scale * np.random.randn(1, 1)\n",
    "phi1 = lambda z: np.maximum(0., z) # relu on hidden layer\n",
    "phi2 = lambda z: z # linear activation on output layer"
   ]
  },
  {
   "cell_type": "markdown",
   "metadata": {},
   "source": [
    "Create a training set using the two-dimensional Rosenbrock dataset and plot the initial neural network compared to the exact Rosenbrock function"
   ]
  },
  {
   "cell_type": "code",
   "execution_count": 13,
   "metadata": {},
   "outputs": [
    {
     "data": {
      "image/png": "[encoded data removed]",
      "text/plain": [
       "<Figure size 864x432 with 2 Axes>"
      ]
     },
     "metadata": {
      "needs_background": "light"
     },
     "output_type": "display_data"
    }
   ],
   "source": [
    "x_train = 2.*np.random.rand(1000, 2) - 1\n",
    "y_train = rosenbrock(x_train)\n",
    "y_train = (y_train - y_train.mean())/y_train.std() # transform training set to zero mean and unit variance\n",
    "\n",
    "# get a grid to evaluate the exact rosenbrock function on\n",
    "xx1, xx2 = np.meshgrid(np.linspace(-1,1,num=50), np.linspace(-1,1,num=50))\n",
    "x_test = np.c_[xx1.flatten(), xx2.flatten()]\n",
    "y_test = (rosenbrock(x_test).reshape((50,50)) - np.mean(rosenbrock(x_train)))/np.std(rosenbrock(x_train))\n",
    "\n",
    "# plot\n",
    "fig, axs = plt.subplots(ncols=2, figsize=(12,6))\n",
    "axs[0].contourf(xx1, xx2, y_test, vmin=y_test.min(), vmax=y_test.max())\n",
    "axs[0].set_title(\"Exact Rosenbrock Function\")\n",
    "axs[1].contourf(xx1, xx2, forward_pass(x_test, W1, W2, b1, b2, phi1, phi2).reshape((50,50)), \n",
    "                vmin=y_test.min(), vmax=y_test.max());\n",
    "axs[1].set_title(\"Initial Neural Network Prediction\");"
   ]
  },
  {
   "cell_type": "markdown",
   "metadata": {},
   "source": [
    "define an optimizer and a loss function to minimize"
   ]
  },
  {
   "cell_type": "code",
   "execution_count": 14,
   "metadata": {},
   "outputs": [],
   "source": [
    "def update_parameters(w, grad_w, learning_rate=1.):\n",
    "    \"\"\"\n",
    "    perform gradient descent update to minimize an objective\n",
    "    Inputs:\n",
    "        w : vector of parameters\n",
    "        grad_w : gradient of the loss with respect to the parameters\n",
    "        learning_rate : learning rate of the optimizer\n",
    "    \"\"\"\n",
    "    return w - learning_rate * grad_w\n",
    "\n",
    "\n",
    "def least_squares_loss(W1, W2, b1, b2, phi1, phi2, x, y):\n",
    "    \"\"\" compute the least squares loss for the MLP. The learnable parameters are the inputs. \"\"\"\n",
    "    return np.sum(np.square(forward_pass(x, W1, W2, b1, b2, phi1, phi2) - y))"
   ]
  },
  {
   "cell_type": "markdown",
   "metadata": {},
   "source": [
    "Define a function that computes the gradient of the parameters with respect to the least squares loss using the `autograd.grad` function.\n",
    "Note the `argnum` arguement specifies which inputs to our loss we wish to find the gradient with respect to."
   ]
  },
  {
   "cell_type": "code",
   "execution_count": 15,
   "metadata": {},
   "outputs": [],
   "source": [
    "from autograd import grad # The only autograd function you may ever need\n",
    "least_squares_gradient = grad(least_squares_loss, argnum=[0,1,2,3])"
   ]
  },
  {
   "cell_type": "markdown",
   "metadata": {},
   "source": [
    "Now train the neural network using gradient descent (just using full batch for now)"
   ]
  },
  {
   "cell_type": "code",
   "execution_count": 16,
   "metadata": {},
   "outputs": [
    {
     "name": "stdout",
     "output_type": "stream",
     "text": [
      "Iter   1, loss = 926.423482\n",
      "Iter 200, loss = 57.905487\n",
      "Iter 400, loss = 27.644657\n",
      "Iter 600, loss = 16.099811\n",
      "Iter 800, loss = 11.373363\n",
      "Iter 1000, loss = 9.786872\n",
      "Iter 1200, loss = 8.788905\n",
      "Iter 1400, loss = 6.256851\n",
      "Iter 1600, loss = 5.213373\n",
      "Iter 1800, loss = 4.761548\n",
      "Iter 2000, loss = 4.246644\n"
     ]
    }
   ],
   "source": [
    "learning_rate = 0.0002\n",
    "for i in range(2000):\n",
    "    # compute the gradient\n",
    "    W1_grad, W2_grad, b1_grad, b2_grad = least_squares_gradient(W1, W2, b1, b2, phi1, phi2, x_train, y_train)\n",
    "    # update the parameters\n",
    "    W1 = update_parameters(W1, W1_grad, learning_rate)\n",
    "    W2 = update_parameters(W2, W2_grad, learning_rate)\n",
    "    b1 = update_parameters(b1, b1_grad, learning_rate)\n",
    "    b2 = update_parameters(b2, b2_grad, learning_rate)\n",
    "    # print loss if nessessary\n",
    "    if i==0 or (i+1) % 200 == 0:\n",
    "        print(\"Iter %3d, loss = %.6f\" % (i+1, least_squares_loss(W1, W2, b1, b2, phi1, phi2, x_train, y_train)))"
   ]
  },
  {
   "cell_type": "markdown",
   "metadata": {},
   "source": [
    "Now plot the prediction of the trained model alongside the exact function"
   ]
  },
  {
   "cell_type": "code",
   "execution_count": 17,
   "metadata": {},
   "outputs": [
    {
     "data": {
      "image/png": "[encoded data removed]",
      "text/plain": [
       "<Figure size 864x432 with 2 Axes>"
      ]
     },
     "metadata": {
      "needs_background": "light"
     },
     "output_type": "display_data"
    }
   ],
   "source": [
    "fig, axs = plt.subplots(ncols=2, figsize=(12,6))\n",
    "axs[0].contourf(xx1, xx2, y_test, vmin=y_test.min(), vmax=y_test.max())\n",
    "axs[0].set_title(\"Exact Rosenbrock Function\")\n",
    "axs[1].contourf(xx1, xx2, forward_pass(x_test, W1, W2, b1, b2, phi1, phi2).reshape((50,50)),\n",
    "                vmin=y_test.min(), vmax=y_test.max());\n",
    "axs[1].set_title(\"Trained Neural Network Prediction\");"
   ]
  },
  {
   "cell_type": "markdown",
   "metadata": {},
   "source": [
    "The `autograd` package can provide gradients for nearly all commonly used `numpy` functionality.\n",
    "However, there are some limitations such as assigment to arrays.\n",
    "For a summary of what it can and cannot do, see [here](https://github.com/HIPS/autograd/blob/master/docs/tutorial.md#tldr-do-use)."
   ]
  },
  {
   "cell_type": "code",
   "execution_count": null,
   "metadata": {},
   "outputs": [],
   "source": []
  }
 ],
 "metadata": {
  "kernelspec": {
   "display_name": "Python 3",
   "language": "python",
   "name": "python3"
  },
  "language_info": {
   "codemirror_mode": {
    "name": "ipython",
    "version": 3
   },
   "file_extension": ".py",
   "mimetype": "text/x-python",
   "name": "python",
   "nbconvert_exporter": "python",
   "pygments_lexer": "ipython3",
   "version": "3.7.4"
  }
 },
 "nbformat": 4,
 "nbformat_minor": 2
}
