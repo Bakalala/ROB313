{
 "cells": [
  {
   "cell_type": "code",
   "execution_count": 1,
   "metadata": {},
   "outputs": [],
   "source": [
    "%matplotlib inline\n",
    "import matplotlib.pyplot as plt\n",
    "import autograd.numpy as np\n",
    "\n",
    "# add the data folder to path (this specifies a relative path to where my data is stored)\n",
    "import os, sys\n",
    "sys.path.append(os.path.join(os.getcwd(), \"../data\"))\n",
    "from data import data_utils "
   ]
  },
  {
   "cell_type": "code",
   "execution_count": 2,
   "metadata": {},
   "outputs": [],
   "source": [
    "x_train, x_valid, x_test, y_train, y_valid, y_test = data_utils.load_dataset('iris')\n",
    "x_train = np.hstack([np.ones(x_train.shape[0]).reshape(-1,1), x_train])\n",
    "x_valid = np.hstack([np.ones(x_valid.shape[0]).reshape(-1,1), x_valid])\n",
    "x_test = np.hstack([np.ones(x_test.shape[0]).reshape(-1,1), x_test])\n",
    "\n",
    "x_train = np.vstack([x_train, x_valid])\n",
    "\n",
    "y_train = np.vstack([y_train, y_valid])\n",
    "y_train, y_test = y_train[:,(1,)], y_test[:,(1,)]\n",
    "\n",
    "\n"
   ]
  },
  {
   "cell_type": "code",
   "execution_count": 3,
   "metadata": {},
   "outputs": [
    {
     "data": {
      "text/plain": [
       "(15, 5)"
      ]
     },
     "execution_count": 3,
     "metadata": {},
     "output_type": "execute_result"
    }
   ],
   "source": [
    "x_test.shape"
   ]
  },
  {
   "cell_type": "code",
   "execution_count": 4,
   "metadata": {},
   "outputs": [
    {
     "data": {
      "text/plain": [
       "(19,)"
      ]
     },
     "execution_count": 4,
     "metadata": {},
     "output_type": "execute_result"
    }
   ],
   "source": [
    "np.ones(19).shape"
   ]
  },
  {
   "cell_type": "code",
   "execution_count": 5,
   "metadata": {},
   "outputs": [
    {
     "data": {
      "text/plain": [
       "(15, 1)"
      ]
     },
     "execution_count": 5,
     "metadata": {},
     "output_type": "execute_result"
    }
   ],
   "source": [
    "y_test.shape"
   ]
  },
  {
   "cell_type": "code",
   "execution_count": 6,
   "metadata": {},
   "outputs": [],
   "source": [
    "def sigmoid(x):\n",
    "    return 1 / (1 + np.exp(-x))"
   ]
  },
  {
   "cell_type": "code",
   "execution_count": 7,
   "metadata": {},
   "outputs": [],
   "source": [
    "def Probability(X, W):\n",
    "    return sigmoid(np.dot(X,W))"
   ]
  },
  {
   "cell_type": "code",
   "execution_count": 8,
   "metadata": {},
   "outputs": [],
   "source": [
    "W = np.zeros(5)"
   ]
  },
  {
   "cell_type": "code",
   "execution_count": 9,
   "metadata": {},
   "outputs": [],
   "source": [
    "p = Probability(x_test,W)"
   ]
  },
  {
   "cell_type": "code",
   "execution_count": 10,
   "metadata": {},
   "outputs": [
    {
     "data": {
      "image/png": "[encoded data removed]",
      "text/plain": [
       "<Figure size 432x288 with 1 Axes>"
      ]
     },
     "metadata": {
      "needs_background": "light"
     },
     "output_type": "display_data"
    }
   ],
   "source": [
    "prediction = Probability(x_test, W)\n",
    "\n",
    "plt.plot(prediction)\n",
    "plt.plot(y_test)\n",
    "plt.show()"
   ]
  },
  {
   "cell_type": "code",
   "execution_count": 11,
   "metadata": {},
   "outputs": [],
   "source": [
    "def update_parameters(w, grad_w, learning_rate=1.):    \n",
    "    return w + learning_rate * grad_w\n",
    "\n",
    "def grad(x,y,w):\n",
    "#     p = Probability(x, w)\n",
    "#     print('shape of prob',p.shape)\n",
    "#     p = y\n",
    "#     print('shape of y',y.shape)\n",
    "    prob = (y.reshape(-1) - Probability(x, w))\n",
    "#     print(prob.shape)\n",
    "    return np.dot(prob,x)\n",
    "\n",
    "def loss(x,y,w):\n",
    "#     print('x shape',x.shape)\n",
    "#     print('y shape',y.shape)\n",
    "#     print('w shape',w.shape)\n",
    "    \n",
    "    prob = np.log(Probability(x, w).reshape(-1,1))\n",
    "    a = np.dot(y.T,prob)\n",
    "    b = np.dot((1-y.reshape(-1)),np.log(1 - Probability(x, w).reshape(-1)))\n",
    "    return a + b"
   ]
  },
  {
   "cell_type": "code",
   "execution_count": 12,
   "metadata": {},
   "outputs": [
    {
     "name": "stdout",
     "output_type": "stream",
     "text": [
      "(5,)\n",
      "(5,)\n",
      "(5,)\n"
     ]
    }
   ],
   "source": [
    "W = np.zeros(5)\n",
    "gradient = grad(x_train,y_train,W)\n",
    "print(W.shape)\n",
    "print(gradient.shape)\n",
    "\n",
    "W = update_parameters(W,gradient)\n",
    "print(W.shape)\n"
   ]
  },
  {
   "cell_type": "code",
   "execution_count": 1,
   "metadata": {},
   "outputs": [
    {
     "ename": "NameError",
     "evalue": "name 'np' is not defined",
     "output_type": "error",
     "traceback": [
      "\u001b[0;31m---------------------------------------------------------------------------\u001b[0m",
      "\u001b[0;31mNameError\u001b[0m                                 Traceback (most recent call last)",
      "\u001b[0;32m<ipython-input-1-b8f1c687e83d>\u001b[0m in \u001b[0;36m<module>\u001b[0;34m\u001b[0m\n\u001b[0;32m----> 1\u001b[0;31m \u001b[0mW\u001b[0m \u001b[0;34m=\u001b[0m \u001b[0mnp\u001b[0m\u001b[0;34m.\u001b[0m\u001b[0mzeros\u001b[0m\u001b[0;34m(\u001b[0m\u001b[0;36m5\u001b[0m\u001b[0;34m)\u001b[0m\u001b[0;34m\u001b[0m\u001b[0;34m\u001b[0m\u001b[0m\n\u001b[0m\u001b[1;32m      2\u001b[0m \u001b[0mlearning_rate\u001b[0m \u001b[0;34m=\u001b[0m \u001b[0;36m0.05\u001b[0m\u001b[0;34m\u001b[0m\u001b[0;34m\u001b[0m\u001b[0m\n\u001b[1;32m      3\u001b[0m \u001b[0mlosses\u001b[0m \u001b[0;34m=\u001b[0m \u001b[0;34m[\u001b[0m\u001b[0;34m]\u001b[0m\u001b[0;34m\u001b[0m\u001b[0;34m\u001b[0m\u001b[0m\n\u001b[1;32m      4\u001b[0m \u001b[0;32mfor\u001b[0m \u001b[0mi\u001b[0m \u001b[0;32min\u001b[0m \u001b[0mrange\u001b[0m\u001b[0;34m(\u001b[0m\u001b[0;36m2000\u001b[0m\u001b[0;34m)\u001b[0m\u001b[0;34m:\u001b[0m\u001b[0;34m\u001b[0m\u001b[0;34m\u001b[0m\u001b[0m\n\u001b[1;32m      5\u001b[0m     \u001b[0mW_grad\u001b[0m \u001b[0;34m=\u001b[0m \u001b[0mgrad\u001b[0m\u001b[0;34m(\u001b[0m\u001b[0mx_train\u001b[0m\u001b[0;34m,\u001b[0m\u001b[0my_train\u001b[0m\u001b[0;34m,\u001b[0m\u001b[0mW\u001b[0m\u001b[0;34m)\u001b[0m\u001b[0;34m\u001b[0m\u001b[0;34m\u001b[0m\u001b[0m\n",
      "\u001b[0;31mNameError\u001b[0m: name 'np' is not defined"
     ]
    }
   ],
   "source": [
    "W = np.zeros(5)\n",
    "learning_rate = 0.05\n",
    "losses = []\n",
    "for i in range(2000):\n",
    "    W_grad = grad(x_train,y_train,W)\n",
    "    W = update_parameters(W, W_grad, learning_rate)\n",
    "    losses.append(loss(x_train,y_train, W).reshape(-1))\n",
    "    if i==0 or (i+1) % 200 == 0:\n",
    "        print(\"Iter %3d, loss = %.6f\" % (i+1, loss(x_train,y_train, W)))"
   ]
  },
  {
   "cell_type": "code",
   "execution_count": 32,
   "metadata": {},
   "outputs": [],
   "source": [
    "def accuracy(y,ypredicted):\n",
    "    count = len(y)\n",
    "    correct = 0\n",
    "    for i in range(0,len(y)):\n",
    "        if y[i] == 0 and ypredicted[i] < .5:\n",
    "            correct += 1\n",
    "        elif y[i] == 1 and ypredicted[i] > .5:\n",
    "            correct += 1\n",
    "    return correct/count"
   ]
  },
  {
   "cell_type": "code",
   "execution_count": 34,
   "metadata": {},
   "outputs": [
    {
     "name": "stdout",
     "output_type": "stream",
     "text": [
      "0.7333333333333333\n"
     ]
    },
    {
     "data": {
      "image/png": "[encoded data removed]",
      "text/plain": [
       "<Figure size 432x288 with 1 Axes>"
      ]
     },
     "metadata": {
      "needs_background": "light"
     },
     "output_type": "display_data"
    },
    {
     "data": {
      "text/plain": [
       "array([[-6.91713216]])"
      ]
     },
     "execution_count": 34,
     "metadata": {},
     "output_type": "execute_result"
    }
   ],
   "source": [
    "prediction = Probability(x_test, W)\n",
    "acc = accuracy(y_test,prediction)\n",
    "print(acc)\n",
    "plt.plot(prediction)\n",
    "plt.plot(y_test)\n",
    "plt.show()\n",
    "\n",
    "loss(x_test,y_test, W)"
   ]
  },
  {
   "cell_type": "code",
   "execution_count": 20,
   "metadata": {},
   "outputs": [
    {
     "data": {
      "text/plain": [
       "<function matplotlib.pyplot.show(*args, **kw)>"
      ]
     },
     "execution_count": 20,
     "metadata": {},
     "output_type": "execute_result"
    },
    {
     "data": {
      "image/png": "[encoded data removed]",
      "text/plain": [
       "<Figure size 432x288 with 1 Axes>"
      ]
     },
     "metadata": {
      "needs_background": "light"
     },
     "output_type": "display_data"
    }
   ],
   "source": [
    "plt.plot(losses)\n",
    "plt.title('GD loss')\n",
    "plt.ylabel('loss')\n",
    "plt.xlabel('iteration')\n",
    "plt.show"
   ]
  },
  {
   "cell_type": "code",
   "execution_count": 17,
   "metadata": {},
   "outputs": [
    {
     "name": "stdout",
     "output_type": "stream",
     "text": [
      "[-0.97794274  0.04087035 -1.23080427  2.07270466 -2.04672443]\n"
     ]
    }
   ],
   "source": [
    "print(W)"
   ]
  },
  {
   "cell_type": "code",
   "execution_count": 29,
   "metadata": {},
   "outputs": [
    {
     "name": "stdout",
     "output_type": "stream",
     "text": [
      "Iter   1, loss = -92.762083\n",
      "Iter 200, loss = -69.115800\n",
      "Iter 400, loss = -67.763564\n",
      "Iter 600, loss = -67.275517\n",
      "Iter 800, loss = -67.005426\n",
      "Iter 1000, loss = -66.831321\n",
      "Iter 1200, loss = -66.707045\n",
      "Iter 1400, loss = -66.610858\n",
      "Iter 1600, loss = -66.531794\n",
      "Iter 1800, loss = -66.464092\n",
      "Iter 2000, loss = -66.404594\n"
     ]
    },
    {
     "data": {
      "text/plain": [
       "<function matplotlib.pyplot.show(*args, **kw)>"
      ]
     },
     "execution_count": 29,
     "metadata": {},
     "output_type": "execute_result"
    },
    {
     "data": {
      "image/png": "[encoded data removed]",
      "text/plain": [
       "<Figure size 432x288 with 1 Axes>"
      ]
     },
     "metadata": {
      "needs_background": "light"
     },
     "output_type": "display_data"
    }
   ],
   "source": [
    "W = np.zeros(5)\n",
    "learning_rate = 0.0005\n",
    "losses = []\n",
    "for i in range(2000):\n",
    "    W_grad = grad(x_train,y_train,W)\n",
    "    W = update_parameters(W, W_grad, learning_rate)\n",
    "    losses.append(loss(x_train,y_train, W).reshape(-1))\n",
    "    if i==0 or (i+1) % 200 == 0:\n",
    "        print(\"Iter %3d, loss = %.6f\" % (i+1, loss(x_train,y_train, W)))\n",
    "\n",
    "plt.plot(losses)\n",
    "plt.title('GD loss')\n",
    "plt.ylabel('loss')\n",
    "plt.xlabel('iteration')\n",
    "plt.show"
   ]
  },
  {
   "cell_type": "code",
   "execution_count": 30,
   "metadata": {},
   "outputs": [
    {
     "name": "stdout",
     "output_type": "stream",
     "text": [
      "Iter   1, loss = -93.492587\n",
      "Iter 200, loss = -82.960774\n",
      "Iter 400, loss = -77.920848\n",
      "Iter 600, loss = -74.990364\n",
      "Iter 800, loss = -73.120585\n",
      "Iter 1000, loss = -71.856654\n",
      "Iter 1200, loss = -70.963671\n",
      "Iter 1400, loss = -70.309301\n",
      "Iter 1600, loss = -69.814605\n",
      "Iter 1800, loss = -69.430346\n",
      "Iter 2000, loss = -69.124660\n"
     ]
    },
    {
     "data": {
      "text/plain": [
       "<function matplotlib.pyplot.show(*args, **kw)>"
      ]
     },
     "execution_count": 30,
     "metadata": {},
     "output_type": "execute_result"
    },
    {
     "data": {
      "image/png": "[encoded data removed]",
      "text/plain": [
       "<Figure size 432x288 with 1 Axes>"
      ]
     },
     "metadata": {
      "needs_background": "light"
     },
     "output_type": "display_data"
    }
   ],
   "source": [
    "W = np.zeros(5)\n",
    "learning_rate = 0.00005\n",
    "losses = []\n",
    "for i in range(2000):\n",
    "    W_grad = grad(x_train,y_train,W)\n",
    "    W = update_parameters(W, W_grad, learning_rate)\n",
    "    losses.append(loss(x_train,y_train, W).reshape(-1))\n",
    "    if i==0 or (i+1) % 200 == 0:\n",
    "        print(\"Iter %3d, loss = %.6f\" % (i+1, loss(x_train,y_train, W)))\n",
    "\n",
    "plt.plot(losses)\n",
    "plt.title('GD loss')\n",
    "plt.ylabel('loss')\n",
    "plt.xlabel('iteration')\n",
    "plt.show"
   ]
  },
  {
   "cell_type": "code",
   "execution_count": null,
   "metadata": {},
   "outputs": [],
   "source": []
  }
 ],
 "metadata": {
  "kernelspec": {
   "display_name": "Python 3",
   "language": "python",
   "name": "python3"
  },
  "language_info": {
   "codemirror_mode": {
    "name": "ipython",
    "version": 3
   },
   "file_extension": ".py",
   "mimetype": "text/x-python",
   "name": "python",
   "nbconvert_exporter": "python",
   "pygments_lexer": "ipython3",
   "version": "3.7.4"
  }
 },
 "nbformat": 4,
 "nbformat_minor": 2
}
