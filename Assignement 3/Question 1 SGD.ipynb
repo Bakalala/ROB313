{
 "cells": [
  {
   "cell_type": "code",
   "execution_count": 1,
   "metadata": {},
   "outputs": [],
   "source": [
    "%matplotlib inline\n",
    "import matplotlib.pyplot as plt\n",
    "import autograd.numpy as np\n",
    "\n",
    "# add the data folder to path (this specifies a relative path to where my data is stored)\n",
    "import os, sys\n",
    "sys.path.append(os.path.join(os.getcwd(), \"../data\"))\n",
    "from data import data_utils "
   ]
  },
  {
   "cell_type": "code",
   "execution_count": 2,
   "metadata": {},
   "outputs": [],
   "source": [
    "x_train, x_valid, x_test, y_train, y_valid, y_test = data_utils.load_dataset('iris')\n",
    "x_train = np.hstack([np.ones(x_train.shape[0]).reshape(-1,1), x_train])\n",
    "x_valid = np.hstack([np.ones(x_valid.shape[0]).reshape(-1,1), x_valid])\n",
    "x_test = np.hstack([np.ones(x_test.shape[0]).reshape(-1,1), x_test])\n",
    "\n",
    "x_train = np.vstack([x_train, x_valid])\n",
    "\n",
    "y_train = np.vstack([y_train, y_valid])\n",
    "y_train, y_test = y_train[:,(1,)], y_test[:,(1,)]\n",
    "\n",
    "\n"
   ]
  },
  {
   "cell_type": "code",
   "execution_count": 3,
   "metadata": {},
   "outputs": [
    {
     "data": {
      "text/plain": [
       "(15, 5)"
      ]
     },
     "execution_count": 3,
     "metadata": {},
     "output_type": "execute_result"
    }
   ],
   "source": [
    "x_test.shape"
   ]
  },
  {
   "cell_type": "code",
   "execution_count": 4,
   "metadata": {},
   "outputs": [
    {
     "data": {
      "text/plain": [
       "(19,)"
      ]
     },
     "execution_count": 4,
     "metadata": {},
     "output_type": "execute_result"
    }
   ],
   "source": [
    "np.ones(19).shape"
   ]
  },
  {
   "cell_type": "code",
   "execution_count": 5,
   "metadata": {},
   "outputs": [
    {
     "data": {
      "text/plain": [
       "(15, 1)"
      ]
     },
     "execution_count": 5,
     "metadata": {},
     "output_type": "execute_result"
    }
   ],
   "source": [
    "y_test.shape"
   ]
  },
  {
   "cell_type": "code",
   "execution_count": 6,
   "metadata": {},
   "outputs": [],
   "source": [
    "def sigmoid(x):\n",
    "    return 1 / (1 + np.exp(-x))"
   ]
  },
  {
   "cell_type": "code",
   "execution_count": 7,
   "metadata": {},
   "outputs": [],
   "source": [
    "def Probability(X, W):\n",
    "    return sigmoid(np.dot(X,W))"
   ]
  },
  {
   "cell_type": "code",
   "execution_count": 8,
   "metadata": {},
   "outputs": [],
   "source": [
    "W = np.zeros(5)"
   ]
  },
  {
   "cell_type": "code",
   "execution_count": 9,
   "metadata": {},
   "outputs": [],
   "source": [
    "p = Probability(x_test,W)"
   ]
  },
  {
   "cell_type": "code",
   "execution_count": 10,
   "metadata": {},
   "outputs": [
    {
     "data": {
      "image/png": "[encoded data removed]",
      "text/plain": [
       "<Figure size 432x288 with 1 Axes>"
      ]
     },
     "metadata": {
      "needs_background": "light"
     },
     "output_type": "display_data"
    }
   ],
   "source": [
    "prediction = Probability(x_test, W)\n",
    "\n",
    "plt.plot(prediction)\n",
    "plt.plot(y_test)\n",
    "plt.show()"
   ]
  },
  {
   "cell_type": "code",
   "execution_count": 11,
   "metadata": {},
   "outputs": [],
   "source": [
    "def update_parameters(w, grad_w, learning_rate=1.):    \n",
    "    return w + learning_rate * grad_w\n",
    "\n",
    "def grad(x,y,w):\n",
    "#     p = Probability(x, w)\n",
    "#     print('shape of prob',p.shape)\n",
    "#     p = y\n",
    "#     print('shape of y',y.shape)\n",
    "    prob = (y.reshape(-1) - Probability(x, w))\n",
    "#     print(prob.shape)\n",
    "    return np.dot(prob,x.reshape(1,-1))\n",
    "\n",
    "def loss(x,y,w):\n",
    "#     print('x shape',x.shape)\n",
    "#     print('y shape',y.shape)\n",
    "#     print('w shape',w.shape)\n",
    "    \n",
    "    prob = np.log(Probability(x, w).reshape(-1,1))\n",
    "    a = np.dot(y.T,prob)\n",
    "    b = np.dot((1-y.reshape(-1)),np.log(1 - Probability(x, w).reshape(-1)))\n",
    "    return a + b"
   ]
  },
  {
   "cell_type": "code",
   "execution_count": 12,
   "metadata": {},
   "outputs": [],
   "source": [
    "# W = np.zeros(5)\n",
    "# gradient = grad(x_train,y_train,W)\n",
    "# print(W.shape)\n",
    "# print(gradient.shape)\n",
    "\n",
    "# W = update_parameters(W,gradient)\n",
    "# print(W.shape)\n"
   ]
  },
  {
   "cell_type": "code",
   "execution_count": 20,
   "metadata": {},
   "outputs": [
    {
     "name": "stdout",
     "output_type": "stream",
     "text": [
      "Iter   1, loss = -87.104462\n",
      "Iter 200, loss = -66.404174\n",
      "Iter 400, loss = -66.046567\n",
      "Iter 600, loss = -65.900843\n",
      "Iter 800, loss = -65.839831\n",
      "Iter 1000, loss = -65.814083\n",
      "Iter 1200, loss = -65.802892\n",
      "Iter 1400, loss = -65.798724\n",
      "Iter 1600, loss = -65.796538\n",
      "Iter 1800, loss = -65.795745\n",
      "Iter 2000, loss = -65.795414\n"
     ]
    }
   ],
   "source": [
    "W = np.zeros(5)\n",
    "losses = []\n",
    "learning_rate = 0.005\n",
    "for i in range(2000):   \n",
    "    randomize = np.arange(x_train.shape[0])\n",
    "    np.random.shuffle(randomize)\n",
    "    x_train = x_train[randomize]\n",
    "    y_train = y_train[randomize]\n",
    "    for j in range(x_train.shape[0]):\n",
    "        W_grad = grad(x_train[j],y_train[j],W)\n",
    "        W = update_parameters(W, W_grad, learning_rate)\n",
    "    losses.append(loss(x_train,y_train, W).reshape(-1))\n",
    "        # print loss if nessessary\n",
    "    if i==0 or (i+1) % 200 == 0:\n",
    "        print(\"Iter %3d, loss = %.6f\" % (i+1, loss(x_train,y_train, W)))"
   ]
  },
  {
   "cell_type": "code",
   "execution_count": 21,
   "metadata": {},
   "outputs": [],
   "source": [
    "def accuracy(y,ypredicted):\n",
    "    count = len(y)\n",
    "    correct = 0\n",
    "    for i in range(0,len(y)):\n",
    "        if y[i] == 0 and ypredicted[i] < .5:\n",
    "            correct += 1\n",
    "        elif y[i] == 1 and ypredicted[i] > .5:\n",
    "            correct += 1\n",
    "    return correct/count"
   ]
  },
  {
   "cell_type": "code",
   "execution_count": 24,
   "metadata": {},
   "outputs": [
    {
     "name": "stdout",
     "output_type": "stream",
     "text": [
      "0.7333333333333333\n"
     ]
    },
    {
     "data": {
      "image/png": "[encoded data removed]",
      "text/plain": [
       "<Figure size 432x288 with 1 Axes>"
      ]
     },
     "metadata": {
      "needs_background": "light"
     },
     "output_type": "display_data"
    },
    {
     "data": {
      "text/plain": [
       "array([[-6.9324264]])"
      ]
     },
     "execution_count": 24,
     "metadata": {},
     "output_type": "execute_result"
    }
   ],
   "source": [
    "prediction = Probability(x_test, W)\n",
    "acc = accuracy(y_test,prediction)\n",
    "print(acc)\n",
    "plt.plot(prediction)\n",
    "plt.plot(y_test)\n",
    "plt.show()\n",
    "\n",
    "loss(x_test,y_test, W)"
   ]
  },
  {
   "cell_type": "code",
   "execution_count": 23,
   "metadata": {},
   "outputs": [
    {
     "data": {
      "text/plain": [
       "<function matplotlib.pyplot.show(*args, **kw)>"
      ]
     },
     "execution_count": 23,
     "metadata": {},
     "output_type": "execute_result"
    },
    {
     "data": {
      "image/png": "[encoded data removed]",
      "text/plain": [
       "<Figure size 432x288 with 1 Axes>"
      ]
     },
     "metadata": {
      "needs_background": "light"
     },
     "output_type": "display_data"
    }
   ],
   "source": [
    "plt.plot(losses)\n",
    "plt.title('SGD loss')\n",
    "plt.ylabel('loss')\n",
    "plt.xlabel('iteration')\n",
    "plt.show"
   ]
  },
  {
   "cell_type": "code",
   "execution_count": 18,
   "metadata": {},
   "outputs": [
    {
     "name": "stdout",
     "output_type": "stream",
     "text": [
      "Iter   1, loss = -92.770844\n",
      "Iter 200, loss = -69.124830\n",
      "Iter 400, loss = -67.765458\n",
      "Iter 600, loss = -67.276311\n",
      "Iter 800, loss = -67.005870\n",
      "Iter 1000, loss = -66.831589\n",
      "Iter 1200, loss = -66.707212\n",
      "Iter 1400, loss = -66.610955\n",
      "Iter 1600, loss = -66.531842\n",
      "Iter 1800, loss = -66.464117\n",
      "Iter 2000, loss = -66.404603\n"
     ]
    },
    {
     "data": {
      "text/plain": [
       "<function matplotlib.pyplot.show(*args, **kw)>"
      ]
     },
     "execution_count": 18,
     "metadata": {},
     "output_type": "execute_result"
    },
    {
     "data": {
      "image/png": "[encoded data removed]",
      "text/plain": [
       "<Figure size 432x288 with 1 Axes>"
      ]
     },
     "metadata": {
      "needs_background": "light"
     },
     "output_type": "display_data"
    }
   ],
   "source": [
    "W = np.zeros(5)\n",
    "losses = []\n",
    "learning_rate = 0.0005\n",
    "for i in range(2000):   \n",
    "    randomize = np.arange(x_train.shape[0])\n",
    "    np.random.shuffle(randomize)\n",
    "    x_train = x_train[randomize]\n",
    "    y_train = y_train[randomize]\n",
    "    for j in range(x_train.shape[0]):\n",
    "        W_grad = grad(x_train[j],y_train[j],W)\n",
    "        W = update_parameters(W, W_grad, learning_rate)\n",
    "    losses.append(loss(x_train,y_train, W).reshape(-1))\n",
    "        # print loss if nessessary\n",
    "    if i==0 or (i+1) % 200 == 0:\n",
    "        print(\"Iter %3d, loss = %.6f\" % (i+1, loss(x_train,y_train, W)))\n",
    "        \n",
    "plt.plot(losses)\n",
    "plt.title('SGD loss')\n",
    "plt.ylabel('loss')\n",
    "plt.xlabel('iteration')\n",
    "plt.show      "
   ]
  },
  {
   "cell_type": "code",
   "execution_count": 19,
   "metadata": {},
   "outputs": [
    {
     "name": "stdout",
     "output_type": "stream",
     "text": [
      "Iter   1, loss = -93.492692\n",
      "Iter 200, loss = -82.966936\n",
      "Iter 400, loss = -77.926194\n",
      "Iter 600, loss = -74.994728\n",
      "Iter 800, loss = -73.124063\n",
      "Iter 1000, loss = -71.859415\n",
      "Iter 1200, loss = -70.965852\n",
      "Iter 1400, loss = -70.311039\n",
      "Iter 1600, loss = -69.815992\n",
      "Iter 1800, loss = -69.431465\n",
      "Iter 2000, loss = -69.125569\n"
     ]
    },
    {
     "data": {
      "text/plain": [
       "<function matplotlib.pyplot.show(*args, **kw)>"
      ]
     },
     "execution_count": 19,
     "metadata": {},
     "output_type": "execute_result"
    },
    {
     "data": {
      "image/png": "[encoded data removed]",
      "text/plain": [
       "<Figure size 432x288 with 1 Axes>"
      ]
     },
     "metadata": {
      "needs_background": "light"
     },
     "output_type": "display_data"
    }
   ],
   "source": [
    "W = np.zeros(5)\n",
    "losses = []\n",
    "learning_rate = 0.00005\n",
    "for i in range(2000):   \n",
    "    randomize = np.arange(x_train.shape[0])\n",
    "    np.random.shuffle(randomize)\n",
    "    x_train = x_train[randomize]\n",
    "    y_train = y_train[randomize]\n",
    "    for j in range(x_train.shape[0]):\n",
    "        W_grad = grad(x_train[j],y_train[j],W)\n",
    "        W = update_parameters(W, W_grad, learning_rate)\n",
    "    losses.append(loss(x_train,y_train, W).reshape(-1))\n",
    "        # print loss if nessessary\n",
    "    if i==0 or (i+1) % 200 == 0:\n",
    "        print(\"Iter %3d, loss = %.6f\" % (i+1, loss(x_train,y_train, W)))\n",
    "        \n",
    "plt.plot(losses)\n",
    "plt.title('SGD loss')\n",
    "plt.ylabel('loss')\n",
    "plt.xlabel('iteration')\n",
    "plt.show      "
   ]
  },
  {
   "cell_type": "code",
   "execution_count": null,
   "metadata": {},
   "outputs": [],
   "source": []
  }
 ],
 "metadata": {
  "kernelspec": {
   "display_name": "Python 3",
   "language": "python",
   "name": "python3"
  },
  "language_info": {
   "codemirror_mode": {
    "name": "ipython",
    "version": 3
   },
   "file_extension": ".py",
   "mimetype": "text/x-python",
   "name": "python",
   "nbconvert_exporter": "python",
   "pygments_lexer": "ipython3",
   "version": "3.7.4"
  }
 },
 "nbformat": 4,
 "nbformat_minor": 2
}
