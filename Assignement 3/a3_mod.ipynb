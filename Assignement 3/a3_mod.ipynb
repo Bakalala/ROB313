{
 "cells": [
  {
   "cell_type": "code",
   "execution_count": 1,
   "metadata": {},
   "outputs": [],
   "source": [
    "import autograd.numpy as np\n",
    "from autograd import value_and_grad\n",
    "from data import data_utils\n",
    "from data.data_utils import plot_digit\n",
    "import matplotlib.pyplot as plt"
   ]
  },
  {
   "cell_type": "code",
   "execution_count": 2,
   "metadata": {},
   "outputs": [],
   "source": [
    "x_train, x_valid, x_test, y_train, y_valid, y_test = data_utils.load_dataset('mnist_small')"
   ]
  },
  {
   "cell_type": "code",
   "execution_count": 3,
   "metadata": {},
   "outputs": [],
   "source": [
    "def forward_pass(W1, W2, W3, b1, b2, b3, x):\n",
    "    \"\"\"\n",
    "    forward-pass for an fully connected neural network with 2 hidden layers of M neurons\n",
    "    Inputs:\n",
    "        W1 : (M, 784) weights of first (hidden) layer\n",
    "        W2 : (M, M) weights of second (hidden) layer\n",
    "        W3 : (10, M) weights of third (output) layer\n",
    "        b1 : (M, 1) biases of first (hidden) layer\n",
    "        b2 : (M, 1) biases of second (hidden) layer\n",
    "        b3 : (10, 1) biases of third (output) layer\n",
    "        x : (N, 784) training inputs\n",
    "    Outputs:\n",
    "        Fhat : (N, 10) output of the neural network at training inputs\n",
    "    \"\"\"\n",
    "    H1 = np.maximum(0, np.dot(x, W1.T) + b1.T) # layer 1 neurons with ReLU activation, shape (N, M)\n",
    "    H2 = np.maximum(0, np.dot(H1, W2.T) + b2.T) # layer 2 neurons with ReLU activation, shape (N, M)\n",
    "    Fhat = np.dot(H2, W3.T) + b3.T # layer 3 (output) neurons with linear activation, shape (N, 10)\n",
    "    # #######\n",
    "    # Note that the activation function at the output layer is linear!\n",
    "    # You must impliment a stable log-softmax activation function at the ouput layer\n",
    "    # #######\n",
    "    \n",
    "    maxVals = np.max(Fhat,axis=1).reshape(-1,1)\n",
    "    Fhat = Fhat - maxVals\n",
    "    p = np.exp(Fhat)\n",
    "    p = np.sum(p,axis = 1,keepdims = True)\n",
    "    Fhat = Fhat - np.log(p)\n",
    "\n",
    "    return Fhat"
   ]
  },
  {
   "cell_type": "code",
   "execution_count": 4,
   "metadata": {},
   "outputs": [],
   "source": [
    "# np.random.seed(0)\n",
    "# M = 50 # number of neurons in hidden layer\n",
    "# W1 = np.random.randn(M, 784)\n",
    "# W2 = np.random.randn(M, M)\n",
    "# W3 = np.random.randn(10, M)\n",
    "# b1 = np.zeros((M, 1))\n",
    "# b2 = np.zeros((M, 1))\n",
    "# b3 = np.zeros((10, 1))\n",
    "\n",
    "# forward_pass(W1, W2, W3, b1, b2, b3, x_test)\n",
    "\n"
   ]
  },
  {
   "cell_type": "code",
   "execution_count": 5,
   "metadata": {},
   "outputs": [],
   "source": [
    "def negative_log_likelihood(W1, W2, W3, b1, b2, b3, x, y):\n",
    "    \"\"\"\n",
    "    computes the negative log likelihood of the model `forward_pass`\n",
    "    Inputs:\n",
    "        W1, W2, W3, b1, b2, b3, x : same as `forward_pass`\n",
    "        y : (N, 10) training responses\n",
    "    Outputs:\n",
    "        nll : negative log likelihood\n",
    "    \"\"\"\n",
    "    Fhat = forward_pass(W1, W2, W3, b1, b2, b3, x)\n",
    "    # ########\n",
    "    # Note that this function assumes a Gaussian likelihood (with variance 1)\n",
    "    # You must modify this function to consider a categorical (generalized Bernoulli) likelihood\n",
    "    # ########\n",
    "    \n",
    "#     nll = 0.5*np.sum(np.square(Fhat - y)) + 0.5*y.size*np.log(2.*np.pi) \n",
    "    \n",
    "    \n",
    "#     print(Fhat)\n",
    "\n",
    "\n",
    "    nll = -np.sum(np.multiply(Fhat,y))\n",
    "    \n",
    "    \n",
    "#     print(np.multiply(Fhat,y))\n",
    "    \n",
    "    return nll"
   ]
  },
  {
   "cell_type": "code",
   "execution_count": 6,
   "metadata": {},
   "outputs": [
    {
     "data": {
      "text/plain": [
       "'\\n    returns the output of `negative_log_likelihood` as well as the gradient of the \\n    output with respect to all weights and biases\\n    Inputs:\\n        same as negative_log_likelihood (W1, W2, W3, b1, b2, b3, x, y)\\n    Outputs: (nll, (W1_grad, W2_grad, W3_grad, b1_grad, b2_grad, b3_grad))\\n        nll : output of `negative_log_likelihood`\\n        W1_grad : (M, 784) gradient of the nll with respect to the weights of first (hidden) layer\\n        W2_grad : (M, M) gradient of the nll with respect to the weights of second (hidden) layer\\n        W3_grad : (10, M) gradient of the nll with respect to the weights of third (output) layer\\n        b1_grad : (M, 1) gradient of the nll with respect to the biases of first (hidden) layer\\n        b2_grad : (M, 1) gradient of the nll with respect to the biases of second (hidden) layer\\n        b3_grad : (10, 1) gradient of the nll with respect to the biases of third (output) layer\\n     '"
      ]
     },
     "execution_count": 6,
     "metadata": {},
     "output_type": "execute_result"
    }
   ],
   "source": [
    "nll_gradients = value_and_grad(negative_log_likelihood, argnum=[0,1,2,3,4,5])\n",
    "\n",
    "\"\"\"\n",
    "    returns the output of `negative_log_likelihood` as well as the gradient of the \n",
    "    output with respect to all weights and biases\n",
    "    Inputs:\n",
    "        same as negative_log_likelihood (W1, W2, W3, b1, b2, b3, x, y)\n",
    "    Outputs: (nll, (W1_grad, W2_grad, W3_grad, b1_grad, b2_grad, b3_grad))\n",
    "        nll : output of `negative_log_likelihood`\n",
    "        W1_grad : (M, 784) gradient of the nll with respect to the weights of first (hidden) layer\n",
    "        W2_grad : (M, M) gradient of the nll with respect to the weights of second (hidden) layer\n",
    "        W3_grad : (10, M) gradient of the nll with respect to the weights of third (output) layer\n",
    "        b1_grad : (M, 1) gradient of the nll with respect to the biases of first (hidden) layer\n",
    "        b2_grad : (M, 1) gradient of the nll with respect to the biases of second (hidden) layer\n",
    "        b3_grad : (10, 1) gradient of the nll with respect to the biases of third (output) layer\n",
    "     \"\"\""
   ]
  },
  {
   "cell_type": "code",
   "execution_count": 7,
   "metadata": {},
   "outputs": [],
   "source": [
    "def update_parameters(w, grad_w, learning_rate=1.):\n",
    "    \"\"\"\n",
    "    perform gradient descent update to minimize an objective\n",
    "    Inputs:\n",
    "        w : vector of parameters\n",
    "        grad_w : gradient of the loss with respect to the parameters\n",
    "        learning_rate : learning rate of the optimizer\n",
    "    \"\"\"\n",
    "    \n",
    "#     print('w is', w.shape)\n",
    "#     print('grad', grad_w.shape)\n",
    "#     p = w - learning_rate * grad_w\n",
    "#     print(' p is', p.shape)\n",
    "#     return p\n",
    "\n",
    "    return w - learning_rate * grad_w"
   ]
  },
  {
   "cell_type": "code",
   "execution_count": 8,
   "metadata": {},
   "outputs": [],
   "source": [
    "def run_example():\n",
    "    \"\"\"\n",
    "    This example demonstrates computation of the negative log likelihood (nll) as\n",
    "    well as the gradient of the nll with respect to all weights and biases of the\n",
    "    neural network. We will use 50 neurons per hidden layer and will initialize all \n",
    "    weights and biases to zero.\n",
    "    \"\"\"\n",
    "    # load the MNIST_small dataset\n",
    "    from data.data_utils import load_dataset\n",
    "    x_train, x_valid, x_test, y_train, y_valid, y_test = load_dataset('mnist_small')\n",
    "    \n",
    "    # initialize the weights and biases of the network\n",
    "    np.random.seed(0)\n",
    "    M = 100 # neurons per hidden layer\n",
    "    W1 = np.random.randn(M, 784) # weights of first (hidden) layer\n",
    "    W2 = np.random.randn(M, M) # weights of second (hidden) layer\n",
    "    W3 = np.random.randn(10, M) # weights of third (output) layer\n",
    "    b1 = np.zeros((M, 1)) # biases of first (hidden) layer\n",
    "    b2 = np.zeros((M, 1)) # biases of second (hidden) layer\n",
    "    b3 = np.zeros((10, 1)) # biases of third (output) layer\n",
    "    \n",
    "#     # considering the first 250 points in the training set, \n",
    "#     # compute the negative log likelihood and its gradients\n",
    "#     (nll, (W1_grad, W2_grad, W3_grad, b1_grad, b2_grad, b3_grad)) = \\\n",
    "#         nll_gradients(W1, W2, W3, b1, b2, b3, x_train[:250], y_train[:250])\n",
    "#     print(\"negative log likelihood: %.5f\" % nll)\n",
    "    \n",
    "    \n",
    "    "
   ]
  },
  {
   "cell_type": "code",
   "execution_count": 9,
   "metadata": {},
   "outputs": [],
   "source": [
    "# run_example()"
   ]
  },
  {
   "cell_type": "code",
   "execution_count": 71,
   "metadata": {},
   "outputs": [
    {
     "name": "stdout",
     "output_type": "stream",
     "text": [
      "10000\n",
      "Iter   1, loss = 1219649.110790\n",
      "Iter   1, Validation Loss = 139089.166213\n",
      "Iter  20, loss = 89615.716065\n",
      "Iter  20, Validation Loss = 36739.929652\n",
      "Iter  40, loss = 25142.801817\n",
      "Iter  40, Validation Loss = 31001.996135\n",
      "Iter  60, loss = 6821.880022\n",
      "Iter  60, Validation Loss = 28911.704192\n",
      "Iter  80, loss = 1299.581344\n",
      "Iter  80, Validation Loss = 28607.100299\n",
      "Iter 100, loss = 221.483975\n",
      "Iter 100, Validation Loss = 28520.769295\n",
      "Iter 120, loss = 50.096804\n",
      "Iter 120, Validation Loss = 28548.409388\n",
      "Iter 140, loss = 0.078312\n",
      "Iter 140, Validation Loss = 28437.472674\n",
      "Iter 160, loss = 0.054832\n",
      "Iter 160, Validation Loss = 28434.713146\n",
      "Iter 180, loss = 0.044721\n",
      "Iter 180, Validation Loss = 28432.663161\n",
      "Iter 200, loss = 0.038707\n",
      "Iter 200, Validation Loss = 28431.144276\n",
      "Iter 220, loss = 0.034587\n",
      "Iter 220, Validation Loss = 28429.980568\n",
      "Iter 240, loss = 0.031528\n",
      "Iter 240, Validation Loss = 28429.006614\n",
      "Iter 260, loss = 0.029135\n",
      "Iter 260, Validation Loss = 28428.160227\n",
      "Iter 280, loss = 0.027194\n",
      "Iter 280, Validation Loss = 28427.413105\n",
      "Iter 300, loss = 0.025575\n",
      "Iter 300, Validation Loss = 28426.756119\n",
      "Iter 320, loss = 0.024198\n",
      "Iter 320, Validation Loss = 28426.124714\n",
      "Iter 340, loss = 0.023005\n",
      "Iter 340, Validation Loss = 28425.547867\n",
      "Iter 360, loss = 0.021959\n",
      "Iter 360, Validation Loss = 28425.009227\n",
      "Iter 380, loss = 0.021032\n",
      "Iter 380, Validation Loss = 28424.502974\n",
      "Iter 400, loss = 0.020205\n",
      "Iter 400, Validation Loss = 28424.030556\n",
      "Iter 420, loss = 0.019459\n",
      "Iter 420, Validation Loss = 28423.590645\n",
      "Iter 440, loss = 0.018782\n",
      "Iter 440, Validation Loss = 28423.155974\n",
      "Iter 460, loss = 0.018162\n",
      "Iter 460, Validation Loss = 28422.755080\n",
      "Iter 480, loss = 0.017593\n",
      "Iter 480, Validation Loss = 28422.360969\n",
      "Iter 500, loss = 0.017067\n",
      "Iter 500, Validation Loss = 28421.999847\n",
      "Iter 520, loss = 0.016579\n",
      "Iter 520, Validation Loss = 28421.640521\n",
      "Iter 540, loss = 0.016126\n",
      "Iter 540, Validation Loss = 28421.288895\n",
      "Iter 560, loss = 0.015703\n",
      "Iter 560, Validation Loss = 28420.955302\n",
      "Iter 580, loss = 0.015307\n",
      "Iter 580, Validation Loss = 28420.631097\n",
      "Iter 600, loss = 0.014936\n",
      "Iter 600, Validation Loss = 28420.317758\n"
     ]
    }
   ],
   "source": [
    "from data.data_utils import load_dataset\n",
    "x_train, x_valid, x_test, y_train, y_valid, y_test = load_dataset('mnist_small')\n",
    "\n",
    "# initialize the weights and biases of the network\n",
    "np.random.seed(0)\n",
    "M = 100 # neurons per hidden layer\n",
    "W1 = np.random.randn(M, 784) # weights of first (hidden) layer\n",
    "W2 = np.random.randn(M, M) # weights of second (hidden) layer\n",
    "W3 = np.random.randn(10, M) # weights of third (output) layer\n",
    "b1 = np.zeros((M, 1)) # biases of first (hidden) layer\n",
    "b2 = np.zeros((M, 1)) # biases of second (hidden) layer\n",
    "b3 = np.zeros((10, 1)) # biases of third (output) layer\n",
    "\n",
    "learning_rate = 0.00002\n",
    "\n",
    "size = x_train.shape[0]\n",
    "print(size)\n",
    "batchsize = 250\n",
    "\n",
    "trainloss = []\n",
    "valloss = []\n",
    "\n",
    "for i in range(600) : \n",
    "    randomize = np.arange(size)\n",
    "    np.random.shuffle(randomize)\n",
    "    x_train = x_train[randomize]\n",
    "    y_train = y_train[randomize]\n",
    "    \n",
    "    for j in range(int(size/batchsize)):\n",
    "        (nll, (W1_grad, W2_grad, W3_grad, b1_grad, b2_grad, b3_grad)) = \\\n",
    "            nll_gradients(W1, W2, W3, b1, b2, b3, x_train[j*batchsize:(j+1)*batchsize, :], y_train[j*batchsize:(j+1)*batchsize, :])    # update the parameters\n",
    "        W1 = update_parameters(W1, W1_grad, learning_rate)\n",
    "        W2 = update_parameters(W2, W2_grad, learning_rate)\n",
    "        W3 = update_parameters(W3, W3_grad, learning_rate)\n",
    "        b1 = update_parameters(b1, b1_grad, learning_rate)\n",
    "        b2 = update_parameters(b2, b2_grad, learning_rate)\n",
    "        b3 = update_parameters(b3, b3_grad, learning_rate)\n",
    "    # print loss if nessessary\n",
    "    nll = negative_log_likelihood(W1, W2, W3, b1, b2, b3, x_train ,y_train)  \n",
    "    val = negative_log_likelihood(W1, W2, W3, b1, b2, b3, x_valid,y_valid)  \n",
    "\n",
    "\n",
    "    trainloss.append(nll)\n",
    "    valloss.append(val)\n",
    "    \n",
    "    if i==0 or (i+1) % 20 == 0:\n",
    "        print(\"Iter %3d, loss = %.6f\" % (i+1, nll))\n",
    "        print(\"Iter %3d, Validation Loss = %.6f\" % (i+1, val))\n",
    "\n",
    "\n"
   ]
  },
  {
   "cell_type": "code",
   "execution_count": 77,
   "metadata": {},
   "outputs": [
    {
     "data": {
      "image/png": "[encoded data removed]",
      "text/plain": [
       "<Figure size 432x288 with 1 Axes>"
      ]
     },
     "metadata": {
      "needs_background": "light"
     },
     "output_type": "display_data"
    },
    {
     "data": {
      "image/png": "[encoded data removed]",
      "text/plain": [
       "<Figure size 432x288 with 1 Axes>"
      ]
     },
     "metadata": {
      "needs_background": "light"
     },
     "output_type": "display_data"
    }
   ],
   "source": [
    "plt.plot(trainloss)\n",
    "plt.plot(valloss)\n",
    "plt.xlabel('iteration')\n",
    "plt.ylabel('loss')\n",
    "plt.legend(['train loss', 'validation loss'])\n",
    "plt.show()\n",
    "\n",
    "plt.plot(trainloss[100:])\n",
    "plt.plot(valloss[100:])\n",
    "plt.xlabel('iteration')\n",
    "plt.ylabel('loss')\n",
    "plt.legend(['train loss', 'validation loss'])\n",
    "plt.show()\n",
    "\n"
   ]
  },
  {
   "cell_type": "code",
   "execution_count": 94,
   "metadata": {},
   "outputs": [
    {
     "data": {
      "image/png": "[encoded data removed]",
      "text/plain": [
       "<Figure size 432x288 with 1 Axes>"
      ]
     },
     "metadata": {
      "needs_background": "light"
     },
     "output_type": "display_data"
    }
   ],
   "source": [
    "plot_digit(x_test[4])"
   ]
  },
  {
   "cell_type": "code",
   "execution_count": 79,
   "metadata": {},
   "outputs": [
    {
     "data": {
      "text/plain": [
       "array([6])"
      ]
     },
     "execution_count": 79,
     "metadata": {},
     "output_type": "execute_result"
    }
   ],
   "source": [
    "np.argmax(forward_pass(W1, W2, W3, b1, b2, b3, x_test[39]),axis=1)"
   ]
  },
  {
   "cell_type": "code",
   "execution_count": 80,
   "metadata": {},
   "outputs": [
    {
     "data": {
      "text/plain": [
       "1.0"
      ]
     },
     "execution_count": 80,
     "metadata": {},
     "output_type": "execute_result"
    }
   ],
   "source": [
    "predict = np.argmax(forward_pass(W1, W2, W3, b1, b2, b3, x_train),axis=1)\n",
    "y = np.argmax(y_train,axis=1)\n",
    "np.sum((predict==y))/y.size"
   ]
  },
  {
   "cell_type": "code",
   "execution_count": 81,
   "metadata": {},
   "outputs": [
    {
     "data": {
      "text/plain": [
       "0.834"
      ]
     },
     "execution_count": 81,
     "metadata": {},
     "output_type": "execute_result"
    }
   ],
   "source": [
    "predict = np.argmax(forward_pass(W1, W2, W3, b1, b2, b3, x_valid),axis=1)\n",
    "y = np.argmax(y_valid,axis=1)\n",
    "np.sum((predict==y))/y.size"
   ]
  },
  {
   "cell_type": "code",
   "execution_count": 82,
   "metadata": {},
   "outputs": [
    {
     "data": {
      "text/plain": [
       "0.847"
      ]
     },
     "execution_count": 82,
     "metadata": {},
     "output_type": "execute_result"
    }
   ],
   "source": [
    "predict = np.argmax(forward_pass(W1, W2, W3, b1, b2, b3, x_test),axis=1)\n",
    "y = np.argmax(y_test,axis=1)\n",
    "np.sum((predict==y))/y.size"
   ]
  },
  {
   "cell_type": "code",
   "execution_count": 95,
   "metadata": {},
   "outputs": [
    {
     "name": "stdout",
     "output_type": "stream",
     "text": [
      "[False False False False False False False  True False False]\n"
     ]
    },
    {
     "data": {
      "text/plain": [
       "array([7])"
      ]
     },
     "execution_count": 95,
     "metadata": {},
     "output_type": "execute_result"
    },
    {
     "data": {
      "image/png": "[encoded data removed]",
      "text/plain": [
       "<Figure size 432x288 with 1 Axes>"
      ]
     },
     "metadata": {
      "needs_background": "light"
     },
     "output_type": "display_data"
    }
   ],
   "source": [
    "value = 4\n",
    "plot_digit(x_test[value])\n",
    "print(y_test[value])\n",
    "np.argmax(forward_pass(W1, W2, W3, b1, b2, b3, x_test[value]),axis=1)\n"
   ]
  },
  {
   "cell_type": "code",
   "execution_count": null,
   "metadata": {},
   "outputs": [],
   "source": []
  }
 ],
 "metadata": {
  "kernelspec": {
   "display_name": "Python 3",
   "language": "python",
   "name": "python3"
  },
  "language_info": {
   "codemirror_mode": {
    "name": "ipython",
    "version": 3
   },
   "file_extension": ".py",
   "mimetype": "text/x-python",
   "name": "python",
   "nbconvert_exporter": "python",
   "pygments_lexer": "ipython3",
   "version": "3.7.4"
  }
 },
 "nbformat": 4,
 "nbformat_minor": 2
}
